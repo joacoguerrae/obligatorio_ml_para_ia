{
  "cells": [
    {
      "cell_type": "markdown",
      "id": "d848dd33",
      "metadata": {
        "id": "d848dd33"
      },
      "source": [
        "# Entrega 3 Machine Learning para IA - Kaggle Submission\n",
        "\n",
        "### Ramiro Sanes (368397) y Joaquin Guerra (307854)"
      ]
    },
    {
      "cell_type": "code",
      "execution_count": 1,
      "id": "ae9d5e35",
      "metadata": {
        "id": "ae9d5e35"
      },
      "outputs": [
        {
          "name": "stderr",
          "output_type": "stream",
          "text": [
            "c:\\Users\\joaco\\anaconda3\\envs\\ml-para-ia\\Lib\\site-packages\\tqdm\\auto.py:21: TqdmWarning: IProgress not found. Please update jupyter and ipywidgets. See https://ipywidgets.readthedocs.io/en/stable/user_install.html\n",
            "  from .autonotebook import tqdm as notebook_tqdm\n"
          ]
        }
      ],
      "source": [
        "import os\n",
        "import numpy as np\n",
        "import pandas as pd\n",
        "import matplotlib.pyplot as plt\n",
        "import zipfile\n",
        "import joblib\n",
        "import imageio.v2 as imageio\n",
        "\n",
        "from tqdm import tqdm\n",
        "from random import sample\n",
        "import seaborn as sns\n",
        "\n",
        "from skimage import data, color\n",
        "from skimage.transform import resize\n",
        "\n",
        "from skimage import exposure\n",
        "\n",
        "from skimage import exposure\n",
        "\n",
        "from sklearn.feature_extraction.image import PatchExtractor\n",
        "from sklearn.decomposition import PCA\n",
        "from sklearn.tree import DecisionTreeClassifier\n",
        "from sklearn.model_selection import train_test_split,cross_val_score\n",
        "from sklearn.ensemble import RandomForestClassifier\n",
        "from sklearn.preprocessing import StandardScaler\n",
        "from sklearn.decomposition import IncrementalPCA\n",
        "from sklearn.linear_model import LogisticRegression\n",
        "from sklearn.svm import SVC\n",
        "from lightgbm import LGBMClassifier\n",
        "from catboost import CatBoostClassifier\n",
        "import xgboost as xgb\n",
        "from sklearn.metrics import accuracy_score,f1_score, precision_score, recall_score,classification_report\n",
        "\n",
        "from utils import extract_patches\n",
        "from skimage import data, color, feature\n",
        "import optuna\n",
        "\n",
        "from sklearn.model_selection import GridSearchCV\n",
        "from sklearn.pipeline import Pipeline\n",
        "from sklearn.preprocessing import StandardScaler\n",
        "\n",
        "plt.style.use('ggplot')"
      ]
    },
    {
      "cell_type": "markdown",
      "id": "cbecf80c",
      "metadata": {
        "id": "cbecf80c"
      },
      "source": [
        "## Tarea 1\n",
        "\n",
        "Generar un conjunto de datos con imagenes de fondo (sin rostros)"
      ]
    },
    {
      "cell_type": "code",
      "execution_count": 2,
      "id": "2cfdb35e",
      "metadata": {
        "colab": {
          "base_uri": "https://localhost:8080/"
        },
        "id": "2cfdb35e",
        "outputId": "7ce8b92c-2b91-4ed0-a74c-d856248e7e5e"
      },
      "outputs": [
        {
          "name": "stderr",
          "output_type": "stream",
          "text": [
            "Procesando imágenes: 100%|██████████| 40/40 [00:08<00:00,  4.77it/s]\n"
          ]
        },
        {
          "data": {
            "text/plain": [
              "(60000, 64, 64)"
            ]
          },
          "execution_count": 2,
          "metadata": {},
          "output_type": "execute_result"
        }
      ],
      "source": [
        "images = []\n",
        "\n",
        "# Creamos el directorio de Background si no existe\n",
        "if not os.path.exists('Background'):\n",
        "    os.makedirs('Background')\n",
        "    #Descargamos el archivo zip de Background\n",
        "    with zipfile.ZipFile('Background.zip', 'r') as zip_ref:\n",
        "        zip_ref.extractall('Background')\n",
        "\n",
        "# Cargamos imagenes de sklearn\n",
        "imgs = ['text',\n",
        "        'coins',\n",
        "        'moon',\n",
        "        'page',\n",
        "        'clock',\n",
        "        'immunohistochemistry',\n",
        "        'chelsea',\n",
        "        'coffee',\n",
        "        'hubble_deep_field',\n",
        "        #'astronaut',\n",
        "        ]\n",
        "\n",
        "for name in imgs:\n",
        "    img = getattr(data, name)()\n",
        "    if len(img.shape) == 3 and img.shape[2] == 3:  # Chequeamos si la imagen es RGB\n",
        "        img = color.rgb2gray(img)\n",
        "    images.append(resize(img, (100,100)))\n",
        "\n",
        "# Cargamos imagenes de Background\n",
        "# iteramos en todas las files de background\n",
        "for file in os.listdir('Background'):\n",
        "    if file.endswith('.jpg'):\n",
        "        filename = os.path.join('Background', file)\n",
        "        img = plt.imread(filename)\n",
        "        if len(img.shape) == 3 and img.shape[2] == 3:  # Chequeamos si la imagen es RGB\n",
        "            img = color.rgb2gray(img)\n",
        "        images.append(resize(img, (100,100)))\n",
        "\n",
        "# Extraemos las imágenes de fondo\n",
        "negative_patches = np.vstack([extract_patches(im, 300, scale) for im in tqdm(images, desc='Procesando imágenes') for scale in [0.1,0.25,0.5,0.75,1]])\n",
        "negative_patches.shape\n"
      ]
    },
    {
      "cell_type": "markdown",
      "id": "941f569d",
      "metadata": {
        "id": "941f569d"
      },
      "source": [
        "## Tarea 2\n",
        "\n",
        "Evaluar la técnica de componentes principales (PCA) para la clasificacion de rostros"
      ]
    },
    {
      "cell_type": "code",
      "execution_count": 3,
      "id": "bff45617",
      "metadata": {
        "colab": {
          "base_uri": "https://localhost:8080/"
        },
        "id": "bff45617",
        "outputId": "dd8d04e1-3769-4d00-ede0-7cf804f46334"
      },
      "outputs": [
        {
          "name": "stderr",
          "output_type": "stream",
          "text": [
            "100%|██████████| 12833/12833 [02:04<00:00, 102.89it/s]\n"
          ]
        }
      ],
      "source": [
        "faces = []\n",
        "\n",
        "#Cargamos caras\n",
        "if not os.path.exists('Faces'):\n",
        "    os.makedirs('Faces')\n",
        "    with zipfile.ZipFile('Faces.zip', 'r') as zip_ref:\n",
        "        zip_ref.extractall()\n",
        "\n",
        "\n",
        "all_files = os.listdir('Faces')\n",
        "pgm_files = [filename for filename in all_files if filename.endswith('.pgm')]\n",
        "\n",
        "for filename in tqdm(pgm_files):\n",
        "    path = os.path.join('Faces', filename)\n",
        "    image = imageio.imread(path)\n",
        "    faces.append(image)\n",
        "\n",
        "faces_array = np.stack(faces)\n",
        "faces_array = faces_array / 255.0"
      ]
    },
    {
      "cell_type": "code",
      "execution_count": 4,
      "id": "21a0c739",
      "metadata": {
        "id": "21a0c739"
      },
      "outputs": [],
      "source": [
        "  # Etiquetas para las imágenes de rostros\n",
        "X_faces = faces_array\n",
        "y_faces = [1] * len(X_faces)\n",
        "\n",
        " # Etiquetas para las imágenes de fondo\n",
        "X_fondos = negative_patches\n",
        "y_fondos = [0] * len(X_fondos)\n",
        "\n",
        "# Etiquetas combinadas\n",
        "X = np.vstack([X_faces,X_fondos])\n",
        "y = np.hstack([y_faces,y_fondos])"
      ]
    },
    {
      "cell_type": "code",
      "execution_count": 5,
      "id": "65f7db04",
      "metadata": {},
      "outputs": [
        {
          "name": "stderr",
          "output_type": "stream",
          "text": [
            "Extrayendo HOG features: 100%|██████████| 72833/72833 [01:14<00:00, 980.17it/s] \n"
          ]
        }
      ],
      "source": [
        "hog_features = []\n",
        "for img in tqdm(X, desc='Extrayendo HOG features'):\n",
        "    fd = feature.hog(img, visualize=False)\n",
        "    hog_features.append(fd)\n"
      ]
    },
    {
      "cell_type": "code",
      "execution_count": 47,
      "id": "3e869868",
      "metadata": {},
      "outputs": [
        {
          "name": "stderr",
          "output_type": "stream",
          "text": [
            "Construyendo hog_features: 100%|██████████| 72833/72833 [00:00<00:00, 104452.96it/s]\n"
          ]
        }
      ],
      "source": [
        "#Aplanamos las features\n",
        "hog_features = np.vstack(hog_features)\n",
        "X_flatten = np.array([im.flatten() for im in tqdm(hog_features, desc='Construyendo hog_features')])"
      ]
    },
    {
      "cell_type": "code",
      "execution_count": 7,
      "id": "e03b0610",
      "metadata": {},
      "outputs": [],
      "source": [
        "X_train, X_val, y_train, y_val = train_test_split(hog_features, y, test_size=0.1, random_state=42)"
      ]
    },
    {
      "cell_type": "code",
      "execution_count": 8,
      "id": "3354d690",
      "metadata": {
        "id": "3354d690"
      },
      "outputs": [],
      "source": [
        "pca_values = [450] # Your desired components\n",
        "pca_dict = {}\n",
        "\n",
        "for i in pca_values:\n",
        "    #Hacemos PCA para cada valor de componentes (PCA no incremental)\n",
        "    pca = PCA(n_components=i)\n",
        "    X_pca = pca.fit_transform(X_train)\n",
        "    pca_dict[i] = pca\n",
        "\n"
      ]
    },
    {
      "cell_type": "code",
      "execution_count": 9,
      "id": "66bc7eb9",
      "metadata": {
        "colab": {
          "base_uri": "https://localhost:8080/",
          "height": 599
        },
        "id": "66bc7eb9",
        "outputId": "2dcc2350-6fc3-4b0d-f3ad-fa2c5a6c34ea"
      },
      "outputs": [
        {
          "data": {
            "image/png": "[encoded data removed]",
            "text/plain": [
              "<Figure size 1000x700 with 1 Axes>"
            ]
          },
          "metadata": {},
          "output_type": "display_data"
        }
      ],
      "source": [
        "fig, ax = plt.subplots(1, figsize=(10, 7))\n",
        "ax.axhline(y=0.95, color='r', linestyle='--', label='95%')\n",
        "plt.plot(np.cumsum(pca_dict[450].explained_variance_ratio_), label=f'{450} componentes')\n",
        "plt.show()"
      ]
    },
    {
      "cell_type": "markdown",
      "id": "8cd2126f",
      "metadata": {
        "id": "8cd2126f"
      },
      "source": [
        "Tomamos 450 como la cantidad de componentes principales ya que pasa el umbral definido de 95% de la varianza explicada"
      ]
    },
    {
      "cell_type": "code",
      "execution_count": 10,
      "id": "8c810732",
      "metadata": {
        "id": "8c810732"
      },
      "outputs": [],
      "source": [
        "pca_final = pca_dict[450]"
      ]
    },
    {
      "cell_type": "code",
      "execution_count": 11,
      "id": "1fd370af",
      "metadata": {},
      "outputs": [
        {
          "data": {
            "text/plain": [
              "['modelos/pca_20250621.pkl']"
            ]
          },
          "execution_count": 11,
          "metadata": {},
          "output_type": "execute_result"
        }
      ],
      "source": [
        "# Guardamos el pca\n",
        "joblib.dump(pca_final, 'modelos/pca_20250621.pkl')"
      ]
    },
    {
      "cell_type": "markdown",
      "id": "259e7608",
      "metadata": {
        "id": "259e7608"
      },
      "source": [
        "### Visualizamos las primeras componentes"
      ]
    },
    {
      "cell_type": "code",
      "execution_count": 12,
      "id": "967db1a7",
      "metadata": {
        "colab": {
          "base_uri": "https://localhost:8080/",
          "height": 478
        },
        "id": "967db1a7",
        "outputId": "127240b8-7f17-4827-d5b5-a0c348bbbcb1"
      },
      "outputs": [
        {
          "data": {
            "image/png": "[encoded data removed]",
            "text/plain": [
              "<Figure size 640x480 with 1 Axes>"
            ]
          },
          "metadata": {},
          "output_type": "display_data"
        }
      ],
      "source": [
        "X_pca_train = pca_final.transform(X_train)\n",
        "\n",
        "plt.scatter(X_pca_train[:,0], X_pca_train[:,1], alpha=0.4,c=y_train)\n",
        "\n",
        "plt.xlabel('PC1')\n",
        "plt.ylabel('PC2')\n",
        "plt.title('Proyección')\n",
        "plt.show()"
      ]
    },
    {
      "cell_type": "code",
      "execution_count": 35,
      "id": "d871766d",
      "metadata": {
        "colab": {
          "base_uri": "https://localhost:8080/",
          "height": 429
        },
        "id": "d871766d",
        "outputId": "86778793-e4f2-4779-aee0-fec6bc43ebd3"
      },
      "outputs": [
        {
          "data": {
            "image/png": "[encoded data removed]",
            "text/plain": [
              "<Figure size 640x480 with 1 Axes>"
            ]
          },
          "metadata": {},
          "output_type": "display_data"
        }
      ],
      "source": [
        "# Plot 3D\n",
        "fig = plt.figure()\n",
        "ax = fig.add_subplot(111, projection='3d')\n",
        "\n",
        "\n",
        "ax.scatter(X_pca_train[:,0], X_pca_train[:,1], X_pca_train[:,2], alpha=0.4,c=y_train)\n",
        "\n",
        "ax.set_xlabel('PC1')\n",
        "ax.set_ylabel('PC2')\n",
        "ax.set_zlabel('PC3')\n",
        "\n",
        "ax.view_init(elev=15, azim=30)\n",
        "\n",
        "ax.set_title('PCA - Primeras 3 componentes')\n",
        "plt.show()"
      ]
    },
    {
      "cell_type": "markdown",
      "id": "d93e8a43",
      "metadata": {
        "id": "d93e8a43"
      },
      "source": [
        "### Modelo sencillo de clasificación"
      ]
    },
    {
      "cell_type": "markdown",
      "id": "433f51eb",
      "metadata": {},
      "source": [
        "Entrenamos 3 árboles de decision, de profundidad 2, 5 y 10:"
      ]
    },
    {
      "cell_type": "code",
      "execution_count": 53,
      "id": "14b3c019",
      "metadata": {
        "colab": {
          "base_uri": "https://localhost:8080/"
        },
        "id": "14b3c019",
        "outputId": "e0e14127-45f3-495a-81eb-6caba22bbfed"
      },
      "outputs": [
        {
          "name": "stdout",
          "output_type": "stream",
          "text": [
            "Score con 2 profundidad: 0.9886497098580647\n",
            "Score con 5 profundidad: 0.9936383473451113\n",
            "Score con 10 profundidad: 0.9940349888009932\n"
          ]
        }
      ],
      "source": [
        "tree_dict = {}\n",
        "scores = {}\n",
        "for i in [2,5,10]:\n",
        "    tree_dict[i] = DecisionTreeClassifier(max_depth=i,random_state=42)\n",
        "    tree_dict[i].fit(X_pca_train, y_train)\n",
        "    scores[i] = cross_val_score(tree_dict[i], X_pca_train, y_train, cv=5, scoring='accuracy')\n",
        "    print(f\"Score con {i} profundidad: {np.mean(scores[i])}\")\n"
      ]
    },
    {
      "cell_type": "code",
      "execution_count": 54,
      "id": "78b4cb97",
      "metadata": {
        "id": "78b4cb97"
      },
      "outputs": [],
      "source": [
        "X_pca_val = pca_final.transform(X_val)"
      ]
    },
    {
      "cell_type": "code",
      "execution_count": 17,
      "id": "8fe5f456",
      "metadata": {
        "colab": {
          "base_uri": "https://localhost:8080/"
        },
        "id": "8fe5f456",
        "outputId": "c325afa7-0bb3-49be-da97-1e6a35cf64d3"
      },
      "outputs": [
        {
          "name": "stdout",
          "output_type": "stream",
          "text": [
            "Accuracy en test con profundidad 2 : 0.9477124183006536\n",
            "Accuracy en test con profundidad 5 : 0.9904295051353875\n",
            "Accuracy en test con profundidad 10 : 0.9904295051353875\n"
          ]
        }
      ],
      "source": [
        "test_accuracies = {}\n",
        "for i in [2,5,10]:\n",
        "    test_accuracies[i] = tree_dict[i].score(X_pca_val, y_val)\n",
        "    print(\"Accuracy en test con profundidad\", i, \":\", test_accuracies[i])"
      ]
    },
    {
      "cell_type": "markdown",
      "id": "rVX1SS5gsj7X",
      "metadata": {
        "id": "rVX1SS5gsj7X"
      },
      "source": [
        "## Probamos entrenando un modelo con XGBoost (Modelo que cargamos para la Kaggle Submission)"
      ]
    },
    {
      "cell_type": "code",
      "execution_count": 55,
      "id": "3J5Wt6aDsoD_",
      "metadata": {
        "colab": {
          "base_uri": "https://localhost:8080/"
        },
        "id": "3J5Wt6aDsoD_",
        "outputId": "554b1d20-36fe-482a-cda8-2dbefc08251a"
      },
      "outputs": [
        {
          "name": "stdout",
          "output_type": "stream",
          "text": [
            "Accuracy en test con XGB: 0.9973915431081823\n"
          ]
        }
      ],
      "source": [
        "# Probamos entrenando un modelo XGB y probamos en X_test_pca\n",
        "\n",
        "xgb_model = xgb.XGBClassifier(objective='binary:logistic', random_state=42)\n",
        "xgb_model.fit(X_pca_train, y_train)\n",
        "y_pred = xgb_model.predict(X_pca_val)\n",
        "accuracy = accuracy_score(y_val, y_pred)\n",
        "print(\"Accuracy en test con XGB:\", accuracy)"
      ]
    },
    {
      "cell_type": "code",
      "execution_count": 34,
      "id": "bYD0rbXntYJY",
      "metadata": {
        "colab": {
          "base_uri": "https://localhost:8080/"
        },
        "id": "bYD0rbXntYJY",
        "outputId": "81ef0082-c2f3-4cd2-da85-8546dbc0c943"
      },
      "outputs": [
        {
          "data": {
            "text/plain": [
              "['xgb_model.pkl']"
            ]
          },
          "execution_count": 34,
          "metadata": {},
          "output_type": "execute_result"
        }
      ],
      "source": [
        "# Guardamos xgb_model\n",
        "joblib.dump(xgb_model, 'xgb_model.pkl')"
      ]
    },
    {
      "cell_type": "code",
      "execution_count": 42,
      "id": "f84c002b",
      "metadata": {},
      "outputs": [],
      "source": [
        "X_pca_val = pca_final.transform(X_val)\n"
      ]
    },
    {
      "cell_type": "code",
      "execution_count": 39,
      "id": "064a76ed",
      "metadata": {},
      "outputs": [],
      "source": [
        "# Guardar los sets a disco\n",
        "\n",
        "np.save(\"datos/X_train.npy\", X_pca_train)\n",
        "np.save(\"datos/y_train.npy\", y_train)\n",
        "np.save(\"datos/X_val.npy\", X_pca_val)\n",
        "np.save(\"datos/y_val.npy\", y_val)\n"
      ]
    },
    {
      "cell_type": "code",
      "execution_count": null,
      "id": "055d2f29",
      "metadata": {},
      "outputs": [],
      "source": []
    },
    {
      "cell_type": "markdown",
      "id": "d4a6f231",
      "metadata": {},
      "source": [
        "GRID SEARCH"
      ]
    },
    {
      "cell_type": "code",
      "execution_count": 43,
      "id": "5250246b",
      "metadata": {},
      "outputs": [],
      "source": [
        "# Lista de modelos y sus grids\n",
        "models_and_parameters = {\n",
        "    \"RandomForest\": {\n",
        "        \"model\": RandomForestClassifier(random_state=42),\n",
        "        \"params\": {\n",
        "            \"model__n_estimators\": [100, 200],\n",
        "            \"model__max_depth\": [5, 10],\n",
        "        },\n",
        "    },\n",
        "    \"XGBoost\": {\n",
        "        \"model\": xgb.XGBClassifier(use_label_encoder=False, eval_metric=\"logloss\", random_state=42),\n",
        "        \"params\": {\n",
        "            \"model__n_estimators\": [100, 200],\n",
        "            \"model__max_depth\": [3, 6],\n",
        "            \"model__learning_rate\": [0.1, 0.2],\n",
        "        },\n",
        "    },\n",
        "    \"LightGBM\": {\n",
        "        \"model\": LGBMClassifier(random_state=42),\n",
        "        \"params\": {\n",
        "            \"model__n_estimators\": [100, 200],\n",
        "            \"model__max_depth\": [3, 6],\n",
        "            \"model__learning_rate\": [0.1, 0.2],\n",
        "        },\n",
        "    },\n",
        "    \"LogisticRegression\": {\n",
        "        \"model\": LogisticRegression(solver=\"liblinear\", random_state=42),\n",
        "        \"params\": {\n",
        "            \"model__C\": [0.1, 1, 10],\n",
        "            \"model__penalty\": [\"l1\", \"l2\"],\n",
        "        },\n",
        "    },\n",
        "}"
      ]
    },
    {
      "cell_type": "code",
      "execution_count": null,
      "id": "66a8b678",
      "metadata": {},
      "outputs": [
        {
          "name": "stdout",
          "output_type": "stream",
          "text": [
            "🔍 Probing: RandomForest\n",
            "Fitting 3 folds for each of 4 candidates, totalling 12 fits\n",
            "              precision    recall  f1-score   support\n",
            "\n",
            "           0       0.98      1.00      0.99      6031\n",
            "           1       1.00      0.91      0.95      1253\n",
            "\n",
            "    accuracy                           0.98      7284\n",
            "   macro avg       0.99      0.96      0.97      7284\n",
            "weighted avg       0.98      0.98      0.98      7284\n",
            "\n",
            "🔍 Probing: XGBoost\n",
            "Fitting 3 folds for each of 8 candidates, totalling 24 fits\n"
          ]
        },
        {
          "name": "stderr",
          "output_type": "stream",
          "text": [
            "c:\\Users\\joaco\\anaconda3\\envs\\ml-para-ia\\Lib\\site-packages\\xgboost\\core.py:158: UserWarning: [14:51:05] WARNING: C:\\b\\abs_52v3kadn8m\\croot\\xgboost-split_1748343554494\\work\\src\\learner.cc:740: \n",
            "Parameters: { \"use_label_encoder\" } are not used.\n",
            "\n",
            "  warnings.warn(smsg, UserWarning)\n"
          ]
        },
        {
          "name": "stdout",
          "output_type": "stream",
          "text": [
            "              precision    recall  f1-score   support\n",
            "\n",
            "           0       1.00      1.00      1.00      6031\n",
            "           1       1.00      0.98      0.99      1253\n",
            "\n",
            "    accuracy                           1.00      7284\n",
            "   macro avg       1.00      0.99      1.00      7284\n",
            "weighted avg       1.00      1.00      1.00      7284\n",
            "\n",
            "🔍 Probing: LightGBM\n",
            "Fitting 3 folds for each of 8 candidates, totalling 24 fits\n",
            "[LightGBM] [Info] Number of positive: 11580, number of negative: 53969\n",
            "[LightGBM] [Info] Auto-choosing col-wise multi-threading, the overhead of testing was 0,110683 seconds.\n",
            "You can set `force_col_wise=true` to remove the overhead.\n",
            "[LightGBM] [Info] Total Bins 114750\n",
            "[LightGBM] [Info] Number of data points in the train set: 65549, number of used features: 450\n",
            "[LightGBM] [Info] [binary:BoostFromScore]: pavg=0,176662 -> initscore=-1,539130\n",
            "[LightGBM] [Info] Start training from score -1,539130\n",
            "[LightGBM] [Warning] No further splits with positive gain, best gain: -inf\n",
            "[LightGBM] [Warning] No further splits with positive gain, best gain: -inf\n",
            "[LightGBM] [Warning] No further splits with positive gain, best gain: -inf\n",
            "[LightGBM] [Warning] No further splits with positive gain, best gain: -inf\n",
            "[LightGBM] [Warning] No further splits with positive gain, best gain: -inf\n",
            "[LightGBM] [Warning] No further splits with positive gain, best gain: -inf\n",
            "[LightGBM] [Warning] No further splits with positive gain, best gain: -inf\n",
            "[LightGBM] [Warning] No further splits with positive gain, best gain: -inf\n",
            "[LightGBM] [Warning] No further splits with positive gain, best gain: -inf\n",
            "[LightGBM] [Warning] No further splits with positive gain, best gain: -inf\n",
            "[LightGBM] [Warning] No further splits with positive gain, best gain: -inf\n",
            "[LightGBM] [Warning] No further splits with positive gain, best gain: -inf\n",
            "[LightGBM] [Warning] No further splits with positive gain, best gain: -inf\n",
            "[LightGBM] [Warning] No further splits with positive gain, best gain: -inf\n",
            "[LightGBM] [Warning] No further splits with positive gain, best gain: -inf\n",
            "[LightGBM] [Warning] No further splits with positive gain, best gain: -inf\n",
            "[LightGBM] [Warning] No further splits with positive gain, best gain: -inf\n",
            "[LightGBM] [Warning] No further splits with positive gain, best gain: -inf\n",
            "[LightGBM] [Warning] No further splits with positive gain, best gain: -inf\n",
            "[LightGBM] [Warning] No further splits with positive gain, best gain: -inf\n",
            "[LightGBM] [Warning] No further splits with positive gain, best gain: -inf\n",
            "[LightGBM] [Warning] No further splits with positive gain, best gain: -inf\n",
            "[LightGBM] [Warning] No further splits with positive gain, best gain: -inf\n",
            "[LightGBM] [Warning] No further splits with positive gain, best gain: -inf\n",
            "[LightGBM] [Warning] No further splits with positive gain, best gain: -inf\n",
            "[LightGBM] [Warning] No further splits with positive gain, best gain: -inf\n",
            "[LightGBM] [Warning] No further splits with positive gain, best gain: -inf\n",
            "[LightGBM] [Warning] No further splits with positive gain, best gain: -inf\n",
            "[LightGBM] [Warning] No further splits with positive gain, best gain: -inf\n",
            "[LightGBM] [Warning] No further splits with positive gain, best gain: -inf\n",
            "[LightGBM] [Warning] No further splits with positive gain, best gain: -inf\n",
            "[LightGBM] [Warning] No further splits with positive gain, best gain: -inf\n",
            "[LightGBM] [Warning] No further splits with positive gain, best gain: -inf\n",
            "[LightGBM] [Warning] No further splits with positive gain, best gain: -inf\n",
            "[LightGBM] [Warning] No further splits with positive gain, best gain: -inf\n",
            "[LightGBM] [Warning] No further splits with positive gain, best gain: -inf\n",
            "[LightGBM] [Warning] No further splits with positive gain, best gain: -inf\n",
            "[LightGBM] [Warning] No further splits with positive gain, best gain: -inf\n",
            "[LightGBM] [Warning] No further splits with positive gain, best gain: -inf\n",
            "[LightGBM] [Warning] No further splits with positive gain, best gain: -inf\n",
            "[LightGBM] [Warning] No further splits with positive gain, best gain: -inf\n",
            "[LightGBM] [Warning] No further splits with positive gain, best gain: -inf\n",
            "[LightGBM] [Warning] No further splits with positive gain, best gain: -inf\n",
            "[LightGBM] [Warning] No further splits with positive gain, best gain: -inf\n",
            "[LightGBM] [Warning] No further splits with positive gain, best gain: -inf\n",
            "[LightGBM] [Warning] No further splits with positive gain, best gain: -inf\n",
            "[LightGBM] [Warning] No further splits with positive gain, best gain: -inf\n",
            "[LightGBM] [Warning] No further splits with positive gain, best gain: -inf\n",
            "[LightGBM] [Warning] No further splits with positive gain, best gain: -inf\n",
            "[LightGBM] [Warning] No further splits with positive gain, best gain: -inf\n",
            "[LightGBM] [Warning] No further splits with positive gain, best gain: -inf\n",
            "[LightGBM] [Warning] No further splits with positive gain, best gain: -inf\n",
            "[LightGBM] [Warning] No further splits with positive gain, best gain: -inf\n",
            "[LightGBM] [Warning] No further splits with positive gain, best gain: -inf\n",
            "[LightGBM] [Warning] No further splits with positive gain, best gain: -inf\n",
            "[LightGBM] [Warning] No further splits with positive gain, best gain: -inf\n",
            "[LightGBM] [Warning] No further splits with positive gain, best gain: -inf\n",
            "[LightGBM] [Warning] No further splits with positive gain, best gain: -inf\n",
            "[LightGBM] [Warning] No further splits with positive gain, best gain: -inf\n",
            "[LightGBM] [Warning] No further splits with positive gain, best gain: -inf\n",
            "[LightGBM] [Warning] No further splits with positive gain, best gain: -inf\n",
            "[LightGBM] [Warning] No further splits with positive gain, best gain: -inf\n",
            "[LightGBM] [Warning] No further splits with positive gain, best gain: -inf\n",
            "[LightGBM] [Warning] No further splits with positive gain, best gain: -inf\n",
            "[LightGBM] [Warning] No further splits with positive gain, best gain: -inf\n",
            "[LightGBM] [Warning] No further splits with positive gain, best gain: -inf\n",
            "[LightGBM] [Warning] No further splits with positive gain, best gain: -inf\n",
            "[LightGBM] [Warning] No further splits with positive gain, best gain: -inf\n",
            "[LightGBM] [Warning] No further splits with positive gain, best gain: -inf\n",
            "[LightGBM] [Warning] No further splits with positive gain, best gain: -inf\n",
            "[LightGBM] [Warning] No further splits with positive gain, best gain: -inf\n",
            "[LightGBM] [Warning] No further splits with positive gain, best gain: -inf\n",
            "[LightGBM] [Warning] No further splits with positive gain, best gain: -inf\n",
            "[LightGBM] [Warning] No further splits with positive gain, best gain: -inf\n",
            "[LightGBM] [Warning] No further splits with positive gain, best gain: -inf\n",
            "[LightGBM] [Warning] No further splits with positive gain, best gain: -inf\n",
            "[LightGBM] [Warning] No further splits with positive gain, best gain: -inf\n",
            "[LightGBM] [Warning] No further splits with positive gain, best gain: -inf\n",
            "[LightGBM] [Warning] No further splits with positive gain, best gain: -inf\n",
            "[LightGBM] [Warning] No further splits with positive gain, best gain: -inf\n",
            "[LightGBM] [Warning] No further splits with positive gain, best gain: -inf\n",
            "[LightGBM] [Warning] No further splits with positive gain, best gain: -inf\n",
            "[LightGBM] [Warning] No further splits with positive gain, best gain: -inf\n",
            "[LightGBM] [Warning] No further splits with positive gain, best gain: -inf\n",
            "[LightGBM] [Warning] No further splits with positive gain, best gain: -inf\n",
            "[LightGBM] [Warning] No further splits with positive gain, best gain: -inf\n",
            "[LightGBM] [Warning] No further splits with positive gain, best gain: -inf\n",
            "[LightGBM] [Warning] No further splits with positive gain, best gain: -inf\n",
            "[LightGBM] [Warning] No further splits with positive gain, best gain: -inf\n",
            "[LightGBM] [Warning] No further splits with positive gain, best gain: -inf\n",
            "[LightGBM] [Warning] No further splits with positive gain, best gain: -inf\n",
            "[LightGBM] [Warning] No further splits with positive gain, best gain: -inf\n",
            "[LightGBM] [Warning] No further splits with positive gain, best gain: -inf\n",
            "[LightGBM] [Warning] No further splits with positive gain, best gain: -inf\n",
            "[LightGBM] [Warning] No further splits with positive gain, best gain: -inf\n",
            "[LightGBM] [Warning] No further splits with positive gain, best gain: -inf\n",
            "[LightGBM] [Warning] No further splits with positive gain, best gain: -inf\n",
            "[LightGBM] [Warning] No further splits with positive gain, best gain: -inf\n",
            "[LightGBM] [Warning] No further splits with positive gain, best gain: -inf\n",
            "[LightGBM] [Warning] No further splits with positive gain, best gain: -inf\n",
            "[LightGBM] [Warning] No further splits with positive gain, best gain: -inf\n",
            "[LightGBM] [Warning] No further splits with positive gain, best gain: -inf\n",
            "[LightGBM] [Warning] No further splits with positive gain, best gain: -inf\n",
            "[LightGBM] [Warning] No further splits with positive gain, best gain: -inf\n",
            "[LightGBM] [Warning] No further splits with positive gain, best gain: -inf\n",
            "[LightGBM] [Warning] No further splits with positive gain, best gain: -inf\n",
            "[LightGBM] [Warning] No further splits with positive gain, best gain: -inf\n",
            "[LightGBM] [Warning] No further splits with positive gain, best gain: -inf\n",
            "[LightGBM] [Warning] No further splits with positive gain, best gain: -inf\n",
            "[LightGBM] [Warning] No further splits with positive gain, best gain: -inf\n",
            "[LightGBM] [Warning] No further splits with positive gain, best gain: -inf\n",
            "[LightGBM] [Warning] No further splits with positive gain, best gain: -inf\n",
            "[LightGBM] [Warning] No further splits with positive gain, best gain: -inf\n",
            "[LightGBM] [Warning] No further splits with positive gain, best gain: -inf\n",
            "[LightGBM] [Warning] No further splits with positive gain, best gain: -inf\n",
            "[LightGBM] [Warning] No further splits with positive gain, best gain: -inf\n",
            "[LightGBM] [Warning] No further splits with positive gain, best gain: -inf\n",
            "[LightGBM] [Warning] No further splits with positive gain, best gain: -inf\n",
            "[LightGBM] [Warning] No further splits with positive gain, best gain: -inf\n",
            "[LightGBM] [Warning] No further splits with positive gain, best gain: -inf\n",
            "[LightGBM] [Warning] No further splits with positive gain, best gain: -inf\n",
            "[LightGBM] [Warning] No further splits with positive gain, best gain: -inf\n",
            "[LightGBM] [Warning] No further splits with positive gain, best gain: -inf\n",
            "[LightGBM] [Warning] No further splits with positive gain, best gain: -inf\n",
            "[LightGBM] [Warning] No further splits with positive gain, best gain: -inf\n",
            "[LightGBM] [Warning] No further splits with positive gain, best gain: -inf\n",
            "[LightGBM] [Warning] No further splits with positive gain, best gain: -inf\n",
            "[LightGBM] [Warning] No further splits with positive gain, best gain: -inf\n",
            "[LightGBM] [Warning] No further splits with positive gain, best gain: -inf\n",
            "[LightGBM] [Warning] No further splits with positive gain, best gain: -inf\n",
            "[LightGBM] [Warning] No further splits with positive gain, best gain: -inf\n",
            "[LightGBM] [Warning] No further splits with positive gain, best gain: -inf\n",
            "[LightGBM] [Warning] No further splits with positive gain, best gain: -inf\n",
            "[LightGBM] [Warning] No further splits with positive gain, best gain: -inf\n",
            "[LightGBM] [Warning] No further splits with positive gain, best gain: -inf\n",
            "[LightGBM] [Warning] No further splits with positive gain, best gain: -inf\n",
            "[LightGBM] [Warning] No further splits with positive gain, best gain: -inf\n",
            "[LightGBM] [Warning] No further splits with positive gain, best gain: -inf\n",
            "[LightGBM] [Warning] No further splits with positive gain, best gain: -inf\n",
            "[LightGBM] [Warning] No further splits with positive gain, best gain: -inf\n",
            "[LightGBM] [Warning] No further splits with positive gain, best gain: -inf\n",
            "[LightGBM] [Warning] No further splits with positive gain, best gain: -inf\n",
            "[LightGBM] [Warning] No further splits with positive gain, best gain: -inf\n",
            "[LightGBM] [Warning] No further splits with positive gain, best gain: -inf\n",
            "[LightGBM] [Warning] No further splits with positive gain, best gain: -inf\n",
            "[LightGBM] [Warning] No further splits with positive gain, best gain: -inf\n",
            "[LightGBM] [Warning] No further splits with positive gain, best gain: -inf\n",
            "[LightGBM] [Warning] No further splits with positive gain, best gain: -inf\n",
            "[LightGBM] [Warning] No further splits with positive gain, best gain: -inf\n",
            "[LightGBM] [Warning] No further splits with positive gain, best gain: -inf\n",
            "[LightGBM] [Warning] No further splits with positive gain, best gain: -inf\n",
            "[LightGBM] [Warning] No further splits with positive gain, best gain: -inf\n",
            "[LightGBM] [Warning] No further splits with positive gain, best gain: -inf\n",
            "[LightGBM] [Warning] No further splits with positive gain, best gain: -inf\n",
            "[LightGBM] [Warning] No further splits with positive gain, best gain: -inf\n",
            "[LightGBM] [Warning] No further splits with positive gain, best gain: -inf\n",
            "[LightGBM] [Warning] No further splits with positive gain, best gain: -inf\n",
            "[LightGBM] [Warning] No further splits with positive gain, best gain: -inf\n",
            "[LightGBM] [Warning] No further splits with positive gain, best gain: -inf\n",
            "[LightGBM] [Warning] No further splits with positive gain, best gain: -inf\n",
            "[LightGBM] [Warning] No further splits with positive gain, best gain: -inf\n",
            "[LightGBM] [Warning] No further splits with positive gain, best gain: -inf\n",
            "[LightGBM] [Warning] No further splits with positive gain, best gain: -inf\n",
            "[LightGBM] [Warning] No further splits with positive gain, best gain: -inf\n",
            "[LightGBM] [Warning] No further splits with positive gain, best gain: -inf\n",
            "[LightGBM] [Warning] No further splits with positive gain, best gain: -inf\n",
            "[LightGBM] [Warning] No further splits with positive gain, best gain: -inf\n",
            "[LightGBM] [Warning] No further splits with positive gain, best gain: -inf\n",
            "[LightGBM] [Warning] No further splits with positive gain, best gain: -inf\n",
            "[LightGBM] [Warning] No further splits with positive gain, best gain: -inf\n",
            "[LightGBM] [Warning] No further splits with positive gain, best gain: -inf\n",
            "[LightGBM] [Warning] No further splits with positive gain, best gain: -inf\n",
            "[LightGBM] [Warning] No further splits with positive gain, best gain: -inf\n",
            "[LightGBM] [Warning] No further splits with positive gain, best gain: -inf\n",
            "[LightGBM] [Warning] No further splits with positive gain, best gain: -inf\n",
            "[LightGBM] [Warning] No further splits with positive gain, best gain: -inf\n",
            "[LightGBM] [Warning] No further splits with positive gain, best gain: -inf\n",
            "[LightGBM] [Warning] No further splits with positive gain, best gain: -inf\n",
            "[LightGBM] [Warning] No further splits with positive gain, best gain: -inf\n",
            "[LightGBM] [Warning] No further splits with positive gain, best gain: -inf\n",
            "[LightGBM] [Warning] No further splits with positive gain, best gain: -inf\n",
            "[LightGBM] [Warning] No further splits with positive gain, best gain: -inf\n",
            "[LightGBM] [Warning] No further splits with positive gain, best gain: -inf\n",
            "[LightGBM] [Warning] No further splits with positive gain, best gain: -inf\n",
            "[LightGBM] [Warning] No further splits with positive gain, best gain: -inf\n",
            "[LightGBM] [Warning] No further splits with positive gain, best gain: -inf\n",
            "[LightGBM] [Warning] No further splits with positive gain, best gain: -inf\n",
            "[LightGBM] [Warning] No further splits with positive gain, best gain: -inf\n",
            "[LightGBM] [Warning] No further splits with positive gain, best gain: -inf\n",
            "[LightGBM] [Warning] No further splits with positive gain, best gain: -inf\n",
            "[LightGBM] [Warning] No further splits with positive gain, best gain: -inf\n",
            "[LightGBM] [Warning] No further splits with positive gain, best gain: -inf\n",
            "[LightGBM] [Warning] No further splits with positive gain, best gain: -inf\n",
            "[LightGBM] [Warning] No further splits with positive gain, best gain: -inf\n",
            "[LightGBM] [Warning] No further splits with positive gain, best gain: -inf\n",
            "[LightGBM] [Warning] No further splits with positive gain, best gain: -inf\n",
            "[LightGBM] [Warning] No further splits with positive gain, best gain: -inf\n",
            "[LightGBM] [Warning] No further splits with positive gain, best gain: -inf\n",
            "[LightGBM] [Warning] No further splits with positive gain, best gain: -inf\n",
            "[LightGBM] [Warning] No further splits with positive gain, best gain: -inf\n",
            "              precision    recall  f1-score   support\n",
            "\n",
            "           0       1.00      1.00      1.00      6031\n",
            "           1       1.00      0.99      0.99      1253\n",
            "\n",
            "    accuracy                           1.00      7284\n",
            "   macro avg       1.00      0.99      1.00      7284\n",
            "weighted avg       1.00      1.00      1.00      7284\n",
            "\n",
            "🔍 Probing: LogisticRegression\n",
            "Fitting 3 folds for each of 6 candidates, totalling 18 fits\n"
          ]
        },
        {
          "name": "stderr",
          "output_type": "stream",
          "text": [
            "c:\\Users\\joaco\\anaconda3\\envs\\ml-para-ia\\Lib\\site-packages\\sklearn\\utils\\validation.py:2739: UserWarning: X does not have valid feature names, but LGBMClassifier was fitted with feature names\n",
            "  warnings.warn(\n"
          ]
        },
        {
          "name": "stdout",
          "output_type": "stream",
          "text": [
            "              precision    recall  f1-score   support\n",
            "\n",
            "           0       1.00      1.00      1.00      6031\n",
            "           1       1.00      0.98      0.99      1253\n",
            "\n",
            "    accuracy                           1.00      7284\n",
            "   macro avg       1.00      0.99      0.99      7284\n",
            "weighted avg       1.00      1.00      1.00      7284\n",
            "\n",
            "\n",
            "🏆 Mejor modelo global:\n",
            "Modelo: XGBoost\n",
            "F1 score (CV): 0.9931\n",
            "Mejores hiperparámetros:\n",
            "  model__learning_rate: 0.2\n",
            "  model__max_depth: 3\n",
            "  model__n_estimators: 200\n"
          ]
        }
      ],
      "source": [
        "results = []\n",
        "mejor_modelo = None\n",
        "mejor_score = -1\n",
        "mejor_nombre = \"\"\n",
        "mejor_params = None\n",
        "\n",
        "for model_name, mp in models_and_parameters.items():\n",
        "    print(f\"🔍 Probing: {model_name}\")\n",
        "\n",
        "    pipeline = Pipeline([\n",
        "        (\"pca\", pca_final),  # Usamos el PCA ya entrenado\n",
        "        (\"scaler\", StandardScaler()),\n",
        "        (\"model\", mp[\"model\"]),\n",
        "    ])\n",
        "\n",
        "    grid = GridSearchCV(\n",
        "        estimator=pipeline,\n",
        "        param_grid=mp[\"params\"],\n",
        "        scoring=\"f1\",\n",
        "        cv=3,\n",
        "        n_jobs=-1,\n",
        "        verbose=2,\n",
        "    )\n",
        "\n",
        "    grid.fit(X_pca_train, y_train)\n",
        "    y_pred = grid.predict(X_pca_val)\n",
        "\n",
        "    print(classification_report(y_val, y_pred))\n",
        "\n",
        "    # Guardar resultados del modelo actual\n",
        "    results.append({\n",
        "        \"model\": model_name,\n",
        "        \"best_params\": grid.best_params_,\n",
        "        \"best_score\": grid.best_score_,\n",
        "    })\n",
        "\n",
        "    # Evaluar si es el mejor modelo global\n",
        "    if grid.best_score_ > mejor_score:\n",
        "        mejor_score = grid.best_score_\n",
        "        mejor_modelo = grid.best_estimator_\n",
        "        mejor_nombre = model_name\n",
        "        mejor_params = grid.best_params_\n",
        "\n",
        "# ✅ Guardar el mejor pipeline\n",
        "joblib.dump(mejor_modelo, f\"modelos/{mejor_nombre}_MEJOR_GLOBAL_pipeline.pkl\")\n",
        "\n",
        "# ✅ Guardar los resultados en un DataFrame en memoria\n",
        "df_results = pd.DataFrame(results)\n",
        "\n",
        "# ✅ Imprimir el resumen final\n",
        "print(\"\\n🏆 Mejor modelo global:\")\n",
        "print(f\"Modelo: {mejor_nombre}\")\n",
        "print(f\"F1 score (CV): {mejor_score:.4f}\")\n",
        "print(\"Mejores hiperparámetros:\")\n",
        "for k, v in mejor_params.items():\n",
        "    print(f\"  {k}: {v}\")"
      ]
    },
    {
      "cell_type": "code",
      "execution_count": 50,
      "id": "d9c19132",
      "metadata": {},
      "outputs": [
        {
          "data": {
            "text/plain": [
              "[{'model': 'RandomForest',\n",
              "  'best_params': {'model__max_depth': 10, 'model__n_estimators': 200},\n",
              "  'best_score': np.float64(0.9535808161717276)},\n",
              " {'model': 'XGBoost',\n",
              "  'best_params': {'model__learning_rate': 0.2,\n",
              "   'model__max_depth': 3,\n",
              "   'model__n_estimators': 200},\n",
              "  'best_score': np.float64(0.9930987014802942)},\n",
              " {'model': 'LightGBM',\n",
              "  'best_params': {'model__learning_rate': 0.2,\n",
              "   'model__max_depth': 3,\n",
              "   'model__n_estimators': 200},\n",
              "  'best_score': np.float64(0.992841798626024)},\n",
              " {'model': 'LogisticRegression',\n",
              "  'best_params': {'model__C': 0.1, 'model__penalty': 'l2'},\n",
              "  'best_score': np.float64(0.9925770935106139)}]"
            ]
          },
          "execution_count": 50,
          "metadata": {},
          "output_type": "execute_result"
        }
      ],
      "source": [
        "results"
      ]
    },
    {
      "cell_type": "code",
      "execution_count": 49,
      "id": "c9be1c52",
      "metadata": {},
      "outputs": [
        {
          "data": {
            "application/vnd.microsoft.datawrangler.viewer.v0+json": {
              "columns": [
                {
                  "name": "index",
                  "rawType": "int64",
                  "type": "integer"
                },
                {
                  "name": "mean_fit_time",
                  "rawType": "float64",
                  "type": "float"
                },
                {
                  "name": "std_fit_time",
                  "rawType": "float64",
                  "type": "float"
                },
                {
                  "name": "mean_score_time",
                  "rawType": "float64",
                  "type": "float"
                },
                {
                  "name": "std_score_time",
                  "rawType": "float64",
                  "type": "float"
                },
                {
                  "name": "param_model__C",
                  "rawType": "float64",
                  "type": "float"
                },
                {
                  "name": "param_model__penalty",
                  "rawType": "object",
                  "type": "string"
                },
                {
                  "name": "params",
                  "rawType": "object",
                  "type": "unknown"
                },
                {
                  "name": "split0_test_score",
                  "rawType": "float64",
                  "type": "float"
                },
                {
                  "name": "split1_test_score",
                  "rawType": "float64",
                  "type": "float"
                },
                {
                  "name": "split2_test_score",
                  "rawType": "float64",
                  "type": "float"
                },
                {
                  "name": "mean_test_score",
                  "rawType": "float64",
                  "type": "float"
                },
                {
                  "name": "std_test_score",
                  "rawType": "float64",
                  "type": "float"
                },
                {
                  "name": "rank_test_score",
                  "rawType": "int32",
                  "type": "integer"
                }
              ],
              "ref": "99f964fe-b3c3-47b0-842a-854caa899cce",
              "rows": [
                [
                  "0",
                  "9.106016794840494",
                  "0.19276562894239713",
                  "0.18698700269063315",
                  "0.006358333737466804",
                  "0.1",
                  "l1",
                  "{'model__C': 0.1, 'model__penalty': 'l1'}",
                  "0.9911342894393742",
                  "0.992706433967179",
                  "0.992988834069073",
                  "0.992276519158542",
                  "0.0008158651861266226",
                  "2"
                ],
                [
                  "1",
                  "5.343918482462565",
                  "0.24702031911056593",
                  "0.1963508129119873",
                  "0.0031901285478223985",
                  "0.1",
                  "l2",
                  "{'model__C': 0.1, 'model__penalty': 'l2'}",
                  "0.9912544054301005",
                  "0.992841338019003",
                  "0.993635537082738",
                  "0.9925770935106139",
                  "0.0009898874875319472",
                  "1"
                ],
                [
                  "2",
                  "37.248751958211265",
                  "3.6835852990988056",
                  "0.15234867731730142",
                  "0.03604850795875505",
                  "1.0",
                  "l1",
                  "{'model__C': 1, 'model__penalty': 'l1'}",
                  "0.9911550468262227",
                  "0.989634620367971",
                  "0.9911962713619886",
                  "0.9906619795187274",
                  "0.0007266475459576953",
                  "4"
                ],
                [
                  "3",
                  "8.98550812403361",
                  "0.06951942331726882",
                  "0.15486907958984375",
                  "0.005544962776855058",
                  "1.0",
                  "l2",
                  "{'model__C': 1, 'model__penalty': 'l2'}",
                  "0.9911458333333333",
                  "0.9918171191063775",
                  "0.9915770377089542",
                  "0.991513330049555",
                  "0.00027772906062382096",
                  "3"
                ],
                [
                  "4",
                  "53.657670656840004",
                  "6.611953305431563",
                  "0.07690064112345378",
                  "0.005494712769299598",
                  "10.0",
                  "l1",
                  "{'model__C': 10, 'model__penalty': 'l1'}",
                  "0.9907756268676108",
                  "0.9865494050698397",
                  "0.9883750968741927",
                  "0.988566709603881",
                  "0.0017306596525839258",
                  "6"
                ],
                [
                  "5",
                  "14.856817404429117",
                  "1.0411901508949493",
                  "0.13467987378438315",
                  "0.014890368265067604",
                  "10.0",
                  "l2",
                  "{'model__C': 10, 'model__penalty': 'l2'}",
                  "0.9898595943837754",
                  "0.9875679875679876",
                  "0.9888773926539058",
                  "0.9887683248685563",
                  "0.0009387180215208541",
                  "5"
                ]
              ],
              "shape": {
                "columns": 13,
                "rows": 6
              }
            },
            "text/html": [
              "<div>\n",
              "<style scoped>\n",
              "    .dataframe tbody tr th:only-of-type {\n",
              "        vertical-align: middle;\n",
              "    }\n",
              "\n",
              "    .dataframe tbody tr th {\n",
              "        vertical-align: top;\n",
              "    }\n",
              "\n",
              "    .dataframe thead th {\n",
              "        text-align: right;\n",
              "    }\n",
              "</style>\n",
              "<table border=\"1\" class=\"dataframe\">\n",
              "  <thead>\n",
              "    <tr style=\"text-align: right;\">\n",
              "      <th></th>\n",
              "      <th>mean_fit_time</th>\n",
              "      <th>std_fit_time</th>\n",
              "      <th>mean_score_time</th>\n",
              "      <th>std_score_time</th>\n",
              "      <th>param_model__C</th>\n",
              "      <th>param_model__penalty</th>\n",
              "      <th>params</th>\n",
              "      <th>split0_test_score</th>\n",
              "      <th>split1_test_score</th>\n",
              "      <th>split2_test_score</th>\n",
              "      <th>mean_test_score</th>\n",
              "      <th>std_test_score</th>\n",
              "      <th>rank_test_score</th>\n",
              "    </tr>\n",
              "  </thead>\n",
              "  <tbody>\n",
              "    <tr>\n",
              "      <th>0</th>\n",
              "      <td>9.106017</td>\n",
              "      <td>0.192766</td>\n",
              "      <td>0.186987</td>\n",
              "      <td>0.006358</td>\n",
              "      <td>0.1</td>\n",
              "      <td>l1</td>\n",
              "      <td>{'model__C': 0.1, 'model__penalty': 'l1'}</td>\n",
              "      <td>0.991134</td>\n",
              "      <td>0.992706</td>\n",
              "      <td>0.992989</td>\n",
              "      <td>0.992277</td>\n",
              "      <td>0.000816</td>\n",
              "      <td>2</td>\n",
              "    </tr>\n",
              "    <tr>\n",
              "      <th>1</th>\n",
              "      <td>5.343918</td>\n",
              "      <td>0.247020</td>\n",
              "      <td>0.196351</td>\n",
              "      <td>0.003190</td>\n",
              "      <td>0.1</td>\n",
              "      <td>l2</td>\n",
              "      <td>{'model__C': 0.1, 'model__penalty': 'l2'}</td>\n",
              "      <td>0.991254</td>\n",
              "      <td>0.992841</td>\n",
              "      <td>0.993636</td>\n",
              "      <td>0.992577</td>\n",
              "      <td>0.000990</td>\n",
              "      <td>1</td>\n",
              "    </tr>\n",
              "    <tr>\n",
              "      <th>2</th>\n",
              "      <td>37.248752</td>\n",
              "      <td>3.683585</td>\n",
              "      <td>0.152349</td>\n",
              "      <td>0.036049</td>\n",
              "      <td>1.0</td>\n",
              "      <td>l1</td>\n",
              "      <td>{'model__C': 1, 'model__penalty': 'l1'}</td>\n",
              "      <td>0.991155</td>\n",
              "      <td>0.989635</td>\n",
              "      <td>0.991196</td>\n",
              "      <td>0.990662</td>\n",
              "      <td>0.000727</td>\n",
              "      <td>4</td>\n",
              "    </tr>\n",
              "    <tr>\n",
              "      <th>3</th>\n",
              "      <td>8.985508</td>\n",
              "      <td>0.069519</td>\n",
              "      <td>0.154869</td>\n",
              "      <td>0.005545</td>\n",
              "      <td>1.0</td>\n",
              "      <td>l2</td>\n",
              "      <td>{'model__C': 1, 'model__penalty': 'l2'}</td>\n",
              "      <td>0.991146</td>\n",
              "      <td>0.991817</td>\n",
              "      <td>0.991577</td>\n",
              "      <td>0.991513</td>\n",
              "      <td>0.000278</td>\n",
              "      <td>3</td>\n",
              "    </tr>\n",
              "    <tr>\n",
              "      <th>4</th>\n",
              "      <td>53.657671</td>\n",
              "      <td>6.611953</td>\n",
              "      <td>0.076901</td>\n",
              "      <td>0.005495</td>\n",
              "      <td>10.0</td>\n",
              "      <td>l1</td>\n",
              "      <td>{'model__C': 10, 'model__penalty': 'l1'}</td>\n",
              "      <td>0.990776</td>\n",
              "      <td>0.986549</td>\n",
              "      <td>0.988375</td>\n",
              "      <td>0.988567</td>\n",
              "      <td>0.001731</td>\n",
              "      <td>6</td>\n",
              "    </tr>\n",
              "    <tr>\n",
              "      <th>5</th>\n",
              "      <td>14.856817</td>\n",
              "      <td>1.041190</td>\n",
              "      <td>0.134680</td>\n",
              "      <td>0.014890</td>\n",
              "      <td>10.0</td>\n",
              "      <td>l2</td>\n",
              "      <td>{'model__C': 10, 'model__penalty': 'l2'}</td>\n",
              "      <td>0.989860</td>\n",
              "      <td>0.987568</td>\n",
              "      <td>0.988877</td>\n",
              "      <td>0.988768</td>\n",
              "      <td>0.000939</td>\n",
              "      <td>5</td>\n",
              "    </tr>\n",
              "  </tbody>\n",
              "</table>\n",
              "</div>"
            ],
            "text/plain": [
              "   mean_fit_time  std_fit_time  mean_score_time  std_score_time  \\\n",
              "0       9.106017      0.192766         0.186987        0.006358   \n",
              "1       5.343918      0.247020         0.196351        0.003190   \n",
              "2      37.248752      3.683585         0.152349        0.036049   \n",
              "3       8.985508      0.069519         0.154869        0.005545   \n",
              "4      53.657671      6.611953         0.076901        0.005495   \n",
              "5      14.856817      1.041190         0.134680        0.014890   \n",
              "\n",
              "   param_model__C param_model__penalty  \\\n",
              "0             0.1                   l1   \n",
              "1             0.1                   l2   \n",
              "2             1.0                   l1   \n",
              "3             1.0                   l2   \n",
              "4            10.0                   l1   \n",
              "5            10.0                   l2   \n",
              "\n",
              "                                      params  split0_test_score  \\\n",
              "0  {'model__C': 0.1, 'model__penalty': 'l1'}           0.991134   \n",
              "1  {'model__C': 0.1, 'model__penalty': 'l2'}           0.991254   \n",
              "2    {'model__C': 1, 'model__penalty': 'l1'}           0.991155   \n",
              "3    {'model__C': 1, 'model__penalty': 'l2'}           0.991146   \n",
              "4   {'model__C': 10, 'model__penalty': 'l1'}           0.990776   \n",
              "5   {'model__C': 10, 'model__penalty': 'l2'}           0.989860   \n",
              "\n",
              "   split1_test_score  split2_test_score  mean_test_score  std_test_score  \\\n",
              "0           0.992706           0.992989         0.992277        0.000816   \n",
              "1           0.992841           0.993636         0.992577        0.000990   \n",
              "2           0.989635           0.991196         0.990662        0.000727   \n",
              "3           0.991817           0.991577         0.991513        0.000278   \n",
              "4           0.986549           0.988375         0.988567        0.001731   \n",
              "5           0.987568           0.988877         0.988768        0.000939   \n",
              "\n",
              "   rank_test_score  \n",
              "0                2  \n",
              "1                1  \n",
              "2                4  \n",
              "3                3  \n",
              "4                6  \n",
              "5                5  "
            ]
          },
          "execution_count": 49,
          "metadata": {},
          "output_type": "execute_result"
        }
      ],
      "source": [
        "df_resultados"
      ]
    },
    {
      "cell_type": "markdown",
      "id": "274bcb23",
      "metadata": {},
      "source": [
        "Prueba en TEST"
      ]
    },
    {
      "cell_type": "code",
      "execution_count": 24,
      "id": "bfbeaf4a",
      "metadata": {},
      "outputs": [],
      "source": [
        "import zipfile\n",
        "\n",
        "with zipfile.ZipFile('Test.zip', 'r') as zip_ref:\n",
        "    zip_ref.extractall('Test')"
      ]
    },
    {
      "cell_type": "code",
      "execution_count": 26,
      "id": "09eedfee",
      "metadata": {},
      "outputs": [],
      "source": [
        "suffix = '.pgm'\n",
        "\n",
        "all_files = os.listdir('Test/Test')\n",
        "pgm_files_test = [filename for filename in all_files if filename.endswith(suffix)]"
      ]
    },
    {
      "cell_type": "code",
      "execution_count": 27,
      "id": "332362fd",
      "metadata": {},
      "outputs": [
        {
          "name": "stderr",
          "output_type": "stream",
          "text": [
            "100%|██████████| 8000/8000 [01:27<00:00, 91.72it/s] \n"
          ]
        }
      ],
      "source": [
        "test_images = []\n",
        "for filename in tqdm(pgm_files_test):\n",
        "    path = os.path.join('Test/Test', filename)\n",
        "    image = imageio.imread(path)  # mucho más rápido que plt.imread\n",
        "    test_images.append(image)"
      ]
    },
    {
      "cell_type": "code",
      "execution_count": 28,
      "id": "884f5701",
      "metadata": {},
      "outputs": [],
      "source": [
        "test_array = np.stack(test_images)"
      ]
    },
    {
      "cell_type": "code",
      "execution_count": null,
      "id": "7ddcdd04",
      "metadata": {},
      "outputs": [],
      "source": [
        "test_array = test_array / 255.0"
      ]
    },
    {
      "cell_type": "code",
      "execution_count": 34,
      "id": "d39cf60d",
      "metadata": {},
      "outputs": [
        {
          "name": "stderr",
          "output_type": "stream",
          "text": [
            "Extrayendo HOG features: 100%|██████████| 8000/8000 [00:06<00:00, 1170.92it/s]\n"
          ]
        }
      ],
      "source": [
        "hog_features_test = []\n",
        "for img in tqdm(test_array, desc='Extrayendo HOG features'):\n",
        "    fd = feature.hog(img, visualize=False)\n",
        "    hog_features_test.append(fd)"
      ]
    },
    {
      "cell_type": "code",
      "execution_count": 35,
      "id": "a808994d",
      "metadata": {},
      "outputs": [],
      "source": [
        "hog_features_test = np.vstack(hog_features_test)"
      ]
    },
    {
      "cell_type": "code",
      "execution_count": 36,
      "id": "93a57b52",
      "metadata": {},
      "outputs": [
        {
          "data": {
            "text/plain": [
              "(8000, 2916)"
            ]
          },
          "execution_count": 36,
          "metadata": {},
          "output_type": "execute_result"
        }
      ],
      "source": [
        "hog_features_test.shape"
      ]
    },
    {
      "cell_type": "code",
      "execution_count": 37,
      "id": "b94ae73c",
      "metadata": {},
      "outputs": [],
      "source": [
        "X_kaggle_pca = pca_final.transform(hog_features_test)"
      ]
    },
    {
      "cell_type": "code",
      "execution_count": 39,
      "id": "dad56361",
      "metadata": {},
      "outputs": [],
      "source": [
        "predictions = grid.best_estimator_.predict(X_kaggle_pca)"
      ]
    },
    {
      "cell_type": "code",
      "execution_count": 40,
      "id": "2b92565a",
      "metadata": {},
      "outputs": [],
      "source": [
        "# Contamos los valores 1 y 0 en la prediccion\n",
        "unique, counts = np.unique(predictions, return_counts=True)\n",
        "pred_counts = dict(zip(unique, counts))"
      ]
    },
    {
      "cell_type": "code",
      "execution_count": 41,
      "id": "667f6cf8",
      "metadata": {},
      "outputs": [
        {
          "data": {
            "text/plain": [
              "{np.int64(0): np.int64(7635), np.int64(1): np.int64(365)}"
            ]
          },
          "execution_count": 41,
          "metadata": {},
          "output_type": "execute_result"
        }
      ],
      "source": [
        "pred_counts"
      ]
    }
  ],
  "metadata": {
    "colab": {
      "provenance": []
    },
    "kernelspec": {
      "display_name": "ml-para-ia",
      "language": "python",
      "name": "python3"
    },
    "language_info": {
      "codemirror_mode": {
        "name": "ipython",
        "version": 3
      },
      "file_extension": ".py",
      "mimetype": "text/x-python",
      "name": "python",
      "nbconvert_exporter": "python",
      "pygments_lexer": "ipython3",
      "version": "3.13.2"
    }
  },
  "nbformat": 4,
  "nbformat_minor": 5
}
