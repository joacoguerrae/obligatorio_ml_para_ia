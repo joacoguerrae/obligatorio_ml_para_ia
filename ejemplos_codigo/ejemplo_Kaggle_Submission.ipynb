{
  "cells": [
    {
      "cell_type": "code",
      "execution_count": 8,
      "metadata": {},
      "outputs": [],
      "source": [
        "import zipfile\n",
        "\n",
        "with zipfile.ZipFile('../Test.zip', 'r') as zip_ref:\n",
        "    zip_ref.extractall()"
      ]
    },
    {
      "cell_type": "code",
      "execution_count": 21,
      "metadata": {
        "id": "B9fY5qdDg-Tw"
      },
      "outputs": [],
      "source": [
        "import os\n",
        "from tqdm import tqdm\n",
        "import numpy as np\n",
        "import pandas as pd\n",
        "import matplotlib.pyplot as plt\n",
        "import joblib\n",
        "from skimage.feature import hog\n",
        "import xgboost as xgb\n",
        "from sklearn.metrics import accuracy_score"
      ]
    },
    {
      "cell_type": "code",
      "execution_count": 12,
      "metadata": {
        "id": "DkX5RsTfmh4v"
      },
      "outputs": [],
      "source": [
        "suffix = '.pgm'\n",
        "kaggle_files = os.listdir('Test')\n",
        "pgm_kaggle_files = [filename for filename in kaggle_files if filename.endswith(suffix)]"
      ]
    },
    {
      "cell_type": "code",
      "execution_count": null,
      "metadata": {
        "id": "S-NPCmx0pnF5"
      },
      "outputs": [
        {
          "data": {
            "text/plain": [
              "8000"
            ]
          },
          "execution_count": 13,
          "metadata": {},
          "output_type": "execute_result"
        }
      ],
      "source": [
        "len(pgm_kaggle_files)"
      ]
    },
    {
      "cell_type": "code",
      "execution_count": 18,
      "metadata": {},
      "outputs": [],
      "source": [
        "\n",
        "def imgs_to_hog(imgs):\n",
        "    hog_features_test = []\n",
        "    for img in tqdm(imgs, desc='Extrayendo HOG features'):\n",
        "        fd = hog(img, visualize=False)\n",
        "        hog_features_test.append(fd)\n",
        "\n",
        "        #transformamos en array y stackeamos\n",
        "    ret_array = np.array(hog_features_test)\n",
        "    ret_array = np.vstack(hog_features_test)\n",
        "\n",
        "    return ret_array"
      ]
    },
    {
      "cell_type": "code",
      "execution_count": 16,
      "metadata": {
        "id": "tOhNJwR4mh4w"
      },
      "outputs": [
        {
          "name": "stderr",
          "output_type": "stream",
          "text": [
            "100%|██████████| 8000/8000 [02:07<00:00, 62.51it/s]\n"
          ]
        }
      ],
      "source": [
        "kaggle_patches = []\n",
        "for filename in tqdm(pgm_kaggle_files):\n",
        "  path = 'Test/' + filename\n",
        "  with open(path, 'rb') as pgmf:\n",
        "      image = plt.imread(pgmf)\n",
        "  kaggle_patches.append(image)"
      ]
    },
    {
      "cell_type": "code",
      "execution_count": 27,
      "metadata": {
        "id": "w13NetjrmJvq"
      },
      "outputs": [
        {
          "name": "stderr",
          "output_type": "stream",
          "text": [
            "100%|██████████| 8000/8000 [00:00<00:00, 2355358.14it/s]\n"
          ]
        }
      ],
      "source": [
        "pgm_kaggle_files_id = []\n",
        "\n",
        "for filename in tqdm(pgm_kaggle_files):\n",
        "  pgm_kaggle_files_id.append(filename[5:-4])"
      ]
    },
    {
      "cell_type": "code",
      "execution_count": 22,
      "metadata": {
        "id": "sQCOSbNDALGq"
      },
      "outputs": [],
      "source": [
        "# Aquí debe utilizar su modelo\n",
        "model = joblib.load('../modelos/xgb_model.pkl')"
      ]
    },
    {
      "cell_type": "code",
      "execution_count": 23,
      "metadata": {
        "id": "_d6CKa_NomWo"
      },
      "outputs": [
        {
          "name": "stderr",
          "output_type": "stream",
          "text": [
            "Extrayendo HOG features: 100%|██████████| 8000/8000 [00:11<00:00, 678.81it/s]\n",
            "Construyendo X: 100%|██████████| 8000/8000 [00:00<00:00, 74177.21it/s]\n"
          ]
        }
      ],
      "source": [
        "# Aquí debe procesar las imagenes de pgm_kaggle_files\n",
        "pca_model = joblib.load('../modelos/pca_final_2025-06-08.pkl')\n",
        "pgm_kaggle_array = np.stack(kaggle_patches)\n",
        "pgm_kaggle_array = pgm_kaggle_array / 255.0  # Normalizar las imágenes\n",
        "pgm_kaggle_array = imgs_to_hog(pgm_kaggle_array)  # Extraer características HOG\n",
        "kaggle_images_flatten = np.array([im.flatten() for im in tqdm(pgm_kaggle_array, desc='Construyendo X')])\n",
        "X_pca_kag = pca_model.transform(kaggle_images_flatten)\n"
      ]
    },
    {
      "cell_type": "code",
      "execution_count": 24,
      "metadata": {},
      "outputs": [
        {
          "data": {
            "text/plain": [
              "(8000, 450)"
            ]
          },
          "execution_count": 24,
          "metadata": {},
          "output_type": "execute_result"
        }
      ],
      "source": [
        "X_pca_kag.shape"
      ]
    },
    {
      "cell_type": "code",
      "execution_count": 25,
      "metadata": {
        "id": "Ww7cTdXOpKcO"
      },
      "outputs": [],
      "source": [
        "# Predicción\n",
        "y_kag = model.predict(X_pca_kag)"
      ]
    },
    {
      "cell_type": "code",
      "execution_count": 28,
      "metadata": {
        "id": "VXZGedNXpOVM"
      },
      "outputs": [],
      "source": [
        "# Predicción + ID\n",
        "y_kag_dic = {pgm_kaggle_files_id[i]: y_kag[i] for i in range(len(pgm_kaggle_files_id))}\n",
        "kaggle_hat = pd.DataFrame(list(y_kag_dic.items()), columns=['id', 'target_feature'])\n",
        "kaggle_hat['id'] = kaggle_hat['id'].astype(int)\n",
        "kaggle_hat['target_feature'] = kaggle_hat['target_feature'].astype(int)\n",
        "kaggle_hat.sort_values(by='id', inplace=True)"
      ]
    },
    {
      "cell_type": "code",
      "execution_count": 29,
      "metadata": {
        "id": "7H2CshFsqHwz"
      },
      "outputs": [
        {
          "data": {
            "application/vnd.microsoft.datawrangler.viewer.v0+json": {
              "columns": [
                {
                  "name": "index",
                  "rawType": "int64",
                  "type": "integer"
                },
                {
                  "name": "id",
                  "rawType": "int64",
                  "type": "integer"
                },
                {
                  "name": "target_feature",
                  "rawType": "int64",
                  "type": "integer"
                }
              ],
              "ref": "29da064b-e653-4105-ab4e-4a26d6fff8e4",
              "rows": [
                [
                  "0",
                  "0",
                  "0"
                ],
                [
                  "1",
                  "1",
                  "0"
                ],
                [
                  "1112",
                  "2",
                  "0"
                ],
                [
                  "2223",
                  "3",
                  "0"
                ],
                [
                  "3334",
                  "4",
                  "0"
                ]
              ],
              "shape": {
                "columns": 2,
                "rows": 5
              }
            },
            "text/html": [
              "<div>\n",
              "<style scoped>\n",
              "    .dataframe tbody tr th:only-of-type {\n",
              "        vertical-align: middle;\n",
              "    }\n",
              "\n",
              "    .dataframe tbody tr th {\n",
              "        vertical-align: top;\n",
              "    }\n",
              "\n",
              "    .dataframe thead th {\n",
              "        text-align: right;\n",
              "    }\n",
              "</style>\n",
              "<table border=\"1\" class=\"dataframe\">\n",
              "  <thead>\n",
              "    <tr style=\"text-align: right;\">\n",
              "      <th></th>\n",
              "      <th>id</th>\n",
              "      <th>target_feature</th>\n",
              "    </tr>\n",
              "  </thead>\n",
              "  <tbody>\n",
              "    <tr>\n",
              "      <th>0</th>\n",
              "      <td>0</td>\n",
              "      <td>0</td>\n",
              "    </tr>\n",
              "    <tr>\n",
              "      <th>1</th>\n",
              "      <td>1</td>\n",
              "      <td>0</td>\n",
              "    </tr>\n",
              "    <tr>\n",
              "      <th>1112</th>\n",
              "      <td>2</td>\n",
              "      <td>0</td>\n",
              "    </tr>\n",
              "    <tr>\n",
              "      <th>2223</th>\n",
              "      <td>3</td>\n",
              "      <td>0</td>\n",
              "    </tr>\n",
              "    <tr>\n",
              "      <th>3334</th>\n",
              "      <td>4</td>\n",
              "      <td>0</td>\n",
              "    </tr>\n",
              "  </tbody>\n",
              "</table>\n",
              "</div>"
            ],
            "text/plain": [
              "      id  target_feature\n",
              "0      0               0\n",
              "1      1               0\n",
              "1112   2               0\n",
              "2223   3               0\n",
              "3334   4               0"
            ]
          },
          "execution_count": 29,
          "metadata": {},
          "output_type": "execute_result"
        }
      ],
      "source": [
        "kaggle_hat.head()"
      ]
    },
    {
      "cell_type": "code",
      "execution_count": 30,
      "metadata": {},
      "outputs": [
        {
          "data": {
            "application/vnd.microsoft.datawrangler.viewer.v0+json": {
              "columns": [
                {
                  "name": "target_feature",
                  "rawType": "int64",
                  "type": "integer"
                },
                {
                  "name": "count",
                  "rawType": "int64",
                  "type": "integer"
                }
              ],
              "ref": "dcecb0c6-206a-4d8f-8c91-1e9697e8ab75",
              "rows": [
                [
                  "0",
                  "7595"
                ],
                [
                  "1",
                  "405"
                ]
              ],
              "shape": {
                "columns": 1,
                "rows": 2
              }
            },
            "text/plain": [
              "target_feature\n",
              "0    7595\n",
              "1     405\n",
              "Name: count, dtype: int64"
            ]
          },
          "execution_count": 30,
          "metadata": {},
          "output_type": "execute_result"
        }
      ],
      "source": [
        "kaggle_hat.value_counts('target_feature')"
      ]
    },
    {
      "cell_type": "code",
      "execution_count": 31,
      "metadata": {
        "id": "QuvqFr-4v85t"
      },
      "outputs": [],
      "source": [
        "# Guardamos en un .csv para subir a kaggle\n",
        "submission_name = 'prueba_2025-06-08'\n",
        "kaggle_hat.to_csv('../submissions/'+ submission_name + '.csv', index=False)"
      ]
    }
  ],
  "metadata": {
    "colab": {
      "provenance": []
    },
    "kernelspec": {
      "display_name": "ml-para-ia",
      "language": "python",
      "name": "python3"
    },
    "language_info": {
      "codemirror_mode": {
        "name": "ipython",
        "version": 3
      },
      "file_extension": ".py",
      "mimetype": "text/x-python",
      "name": "python",
      "nbconvert_exporter": "python",
      "pygments_lexer": "ipython3",
      "version": "3.13.2"
    }
  },
  "nbformat": 4,
  "nbformat_minor": 0
}
