{
  "cells": [
    {
      "cell_type": "code",
      "execution_count": null,
      "metadata": {
        "id": "iLY9epq0BQGr"
      },
      "outputs": [],
      "source": [
        "!unzip /content/Test.zip"
      ]
    },
    {
      "cell_type": "code",
      "execution_count": 40,
      "metadata": {
        "id": "B9fY5qdDg-Tw"
      },
      "outputs": [],
      "source": [
        "import os\n",
        "from tqdm import tqdm\n",
        "import numpy as np\n",
        "import pandas as pd\n",
        "import matplotlib.pyplot as plt\n",
        "import joblib"
      ]
    },
    {
      "cell_type": "code",
      "execution_count": 41,
      "metadata": {
        "id": "DkX5RsTfmh4v"
      },
      "outputs": [],
      "source": [
        "suffix = '.pgm'\n",
        "kaggle_files = os.listdir('../Test/Test')\n",
        "pgm_kaggle_files = [filename for filename in kaggle_files if filename.endswith(suffix)]"
      ]
    },
    {
      "cell_type": "code",
      "execution_count": 42,
      "metadata": {
        "id": "S-NPCmx0pnF5"
      },
      "outputs": [
        {
          "data": {
            "text/plain": [
              "8000"
            ]
          },
          "execution_count": 42,
          "metadata": {},
          "output_type": "execute_result"
        }
      ],
      "source": [
        "len(pgm_kaggle_files)"
      ]
    },
    {
      "cell_type": "code",
      "execution_count": 9,
      "metadata": {
        "id": "tOhNJwR4mh4w"
      },
      "outputs": [
        {
          "name": "stderr",
          "output_type": "stream",
          "text": [
            "100%|██████████| 8000/8000 [01:34<00:00, 84.57it/s] \n"
          ]
        }
      ],
      "source": [
        "kaggle_patches = []\n",
        "for filename in tqdm(pgm_kaggle_files):\n",
        "  path = '../Test/Test/' + filename\n",
        "  with open(path, 'rb') as pgmf:\n",
        "      image = plt.imread(pgmf)\n",
        "  kaggle_patches.append(image)"
      ]
    },
    {
      "cell_type": "code",
      "execution_count": 43,
      "metadata": {
        "id": "w13NetjrmJvq"
      },
      "outputs": [
        {
          "name": "stderr",
          "output_type": "stream",
          "text": [
            "100%|██████████| 8000/8000 [00:00<00:00, 1793587.34it/s]\n"
          ]
        }
      ],
      "source": [
        "pgm_kaggle_files_id = []\n",
        "\n",
        "for filename in tqdm(pgm_kaggle_files):\n",
        "  pgm_kaggle_files_id.append(filename[5:-4])"
      ]
    },
    {
      "cell_type": "code",
      "execution_count": 50,
      "metadata": {
        "id": "sQCOSbNDALGq"
      },
      "outputs": [],
      "source": [
        "# Aquí debe utilizar su modelo\n",
        "model = joblib.load('../modelos/xgb_1.pkl')"
      ]
    },
    {
      "cell_type": "code",
      "execution_count": 51,
      "metadata": {
        "id": "_d6CKa_NomWo"
      },
      "outputs": [
        {
          "name": "stderr",
          "output_type": "stream",
          "text": [
            "Construyendo X: 100%|██████████| 8000/8000 [00:00<00:00, 252577.62it/s]"
          ]
        },
        {
          "name": "stderr",
          "output_type": "stream",
          "text": [
            "\n"
          ]
        }
      ],
      "source": [
        "# Aquí debe procesar las imagenes de pgm_kaggle_files\n",
        "pca_model = joblib.load('../modelos/pca_final_15.pkl')\n",
        "pgm_kaggle_array = np.stack(kaggle_patches)\n",
        "kaggle_images_flatten = np.array([im.flatten() for im in tqdm(pgm_kaggle_array, desc='Construyendo X')])\n",
        "X_pca_kag = pca_model.transform(kaggle_images_flatten)\n"
      ]
    },
    {
      "cell_type": "code",
      "execution_count": 52,
      "metadata": {},
      "outputs": [
        {
          "data": {
            "text/plain": [
              "(8000, 15)"
            ]
          },
          "execution_count": 52,
          "metadata": {},
          "output_type": "execute_result"
        }
      ],
      "source": [
        "X_pca_kag.shape"
      ]
    },
    {
      "cell_type": "code",
      "execution_count": 53,
      "metadata": {
        "id": "Ww7cTdXOpKcO"
      },
      "outputs": [],
      "source": [
        "# Predicción\n",
        "y_kag = model.predict(X_pca_kag)"
      ]
    },
    {
      "cell_type": "code",
      "execution_count": 54,
      "metadata": {
        "id": "VXZGedNXpOVM"
      },
      "outputs": [],
      "source": [
        "# Predicción + ID\n",
        "y_kag_dic = {pgm_kaggle_files_id[i]: y_kag[i] for i in range(len(pgm_kaggle_files_id))}\n",
        "kaggle_hat = pd.DataFrame(list(y_kag_dic.items()), columns=['id', 'target_feature'])\n",
        "kaggle_hat['id'] = kaggle_hat['id'].astype(int)\n",
        "kaggle_hat['target_feature'] = kaggle_hat['target_feature'].astype(int)\n",
        "kaggle_hat.sort_values(by='id', inplace=True)"
      ]
    },
    {
      "cell_type": "code",
      "execution_count": 55,
      "metadata": {
        "id": "7H2CshFsqHwz"
      },
      "outputs": [
        {
          "data": {
            "application/vnd.microsoft.datawrangler.viewer.v0+json": {
              "columns": [
                {
                  "name": "index",
                  "rawType": "int64",
                  "type": "integer"
                },
                {
                  "name": "id",
                  "rawType": "int64",
                  "type": "integer"
                },
                {
                  "name": "target_feature",
                  "rawType": "int64",
                  "type": "integer"
                }
              ],
              "ref": "ce8a9683-4555-4961-883d-6a3dd021640f",
              "rows": [
                [
                  "0",
                  "0",
                  "1"
                ],
                [
                  "1",
                  "1",
                  "1"
                ],
                [
                  "1112",
                  "2",
                  "1"
                ],
                [
                  "2223",
                  "3",
                  "1"
                ],
                [
                  "3334",
                  "4",
                  "1"
                ]
              ],
              "shape": {
                "columns": 2,
                "rows": 5
              }
            },
            "text/html": [
              "<div>\n",
              "<style scoped>\n",
              "    .dataframe tbody tr th:only-of-type {\n",
              "        vertical-align: middle;\n",
              "    }\n",
              "\n",
              "    .dataframe tbody tr th {\n",
              "        vertical-align: top;\n",
              "    }\n",
              "\n",
              "    .dataframe thead th {\n",
              "        text-align: right;\n",
              "    }\n",
              "</style>\n",
              "<table border=\"1\" class=\"dataframe\">\n",
              "  <thead>\n",
              "    <tr style=\"text-align: right;\">\n",
              "      <th></th>\n",
              "      <th>id</th>\n",
              "      <th>target_feature</th>\n",
              "    </tr>\n",
              "  </thead>\n",
              "  <tbody>\n",
              "    <tr>\n",
              "      <th>0</th>\n",
              "      <td>0</td>\n",
              "      <td>1</td>\n",
              "    </tr>\n",
              "    <tr>\n",
              "      <th>1</th>\n",
              "      <td>1</td>\n",
              "      <td>1</td>\n",
              "    </tr>\n",
              "    <tr>\n",
              "      <th>1112</th>\n",
              "      <td>2</td>\n",
              "      <td>1</td>\n",
              "    </tr>\n",
              "    <tr>\n",
              "      <th>2223</th>\n",
              "      <td>3</td>\n",
              "      <td>1</td>\n",
              "    </tr>\n",
              "    <tr>\n",
              "      <th>3334</th>\n",
              "      <td>4</td>\n",
              "      <td>1</td>\n",
              "    </tr>\n",
              "  </tbody>\n",
              "</table>\n",
              "</div>"
            ],
            "text/plain": [
              "      id  target_feature\n",
              "0      0               1\n",
              "1      1               1\n",
              "1112   2               1\n",
              "2223   3               1\n",
              "3334   4               1"
            ]
          },
          "execution_count": 55,
          "metadata": {},
          "output_type": "execute_result"
        }
      ],
      "source": [
        "kaggle_hat.head()\n"
      ]
    },
    {
      "cell_type": "code",
      "execution_count": 56,
      "metadata": {},
      "outputs": [
        {
          "data": {
            "application/vnd.microsoft.datawrangler.viewer.v0+json": {
              "columns": [
                {
                  "name": "target_feature",
                  "rawType": "int64",
                  "type": "integer"
                },
                {
                  "name": "count",
                  "rawType": "int64",
                  "type": "integer"
                }
              ],
              "ref": "6d625281-97f3-4c64-a97c-cc8e7f804a7a",
              "rows": [
                [
                  "1",
                  "7809"
                ],
                [
                  "-1",
                  "191"
                ]
              ],
              "shape": {
                "columns": 1,
                "rows": 2
              }
            },
            "text/plain": [
              "target_feature\n",
              " 1    7809\n",
              "-1     191\n",
              "Name: count, dtype: int64"
            ]
          },
          "execution_count": 56,
          "metadata": {},
          "output_type": "execute_result"
        }
      ],
      "source": [
        "kaggle_hat.value_counts('target_feature')"
      ]
    },
    {
      "cell_type": "code",
      "execution_count": 39,
      "metadata": {
        "id": "QuvqFr-4v85t"
      },
      "outputs": [],
      "source": [
        "# Guardamos en un .csv para subir a kaggle\n",
        "submission_name = 'submission_name'\n",
        "kaggle_hat.to_csv('../submissions/test_submission' + '.csv', index=False)"
      ]
    }
  ],
  "metadata": {
    "colab": {
      "provenance": []
    },
    "kernelspec": {
      "display_name": "ml-para-ia",
      "language": "python",
      "name": "python3"
    },
    "language_info": {
      "codemirror_mode": {
        "name": "ipython",
        "version": 3
      },
      "file_extension": ".py",
      "mimetype": "text/x-python",
      "name": "python",
      "nbconvert_exporter": "python",
      "pygments_lexer": "ipython3",
      "version": "3.13.2"
    }
  },
  "nbformat": 4,
  "nbformat_minor": 0
}
