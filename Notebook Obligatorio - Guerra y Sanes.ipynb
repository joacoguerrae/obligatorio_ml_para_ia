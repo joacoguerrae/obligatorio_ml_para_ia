{
  "cells": [
    {
      "cell_type": "markdown",
      "id": "d848dd33",
      "metadata": {
        "id": "d848dd33"
      },
      "source": [
        "# Entrega 3 Machine Learning para IA - Kaggle Submission\n",
        "\n",
        "### Ramiro Sanes (368397) y Joaquin Guerra (307854)"
      ]
    },
    {
      "cell_type": "code",
      "execution_count": 1,
      "id": "ae9d5e35",
      "metadata": {
        "id": "ae9d5e35"
      },
      "outputs": [],
      "source": [
        "import os\n",
        "import numpy as np\n",
        "import matplotlib.pyplot as plt\n",
        "import zipfile\n",
        "import joblib\n",
        "import imageio.v2 as imageio\n",
        "\n",
        "from tqdm import tqdm\n",
        "\n",
        "from skimage import data, color, feature\n",
        "from skimage.transform import resize\n",
        "\n",
        "from sklearn.decomposition import PCA   \n",
        "from sklearn.tree import DecisionTreeClassifier\n",
        "from sklearn.model_selection import train_test_split, cross_val_score, GridSearchCV, StratifiedKFold, cross_val_predict\n",
        "from sklearn.ensemble import RandomForestClassifier\n",
        "from sklearn.preprocessing import StandardScaler\n",
        "from sklearn.linear_model import LogisticRegression\n",
        "import xgboost as xgb\n",
        "from sklearn.metrics import accuracy_score, f1_score, roc_auc_score, roc_curve, confusion_matrix\n",
        "from sklearn.pipeline import Pipeline\n",
        "from imblearn.metrics import geometric_mean_score\n",
        "from sklearn.naive_bayes import GaussianNB\n",
        "\n",
        "from utils import extract_patches\n",
        "\n",
        "import torch\n",
        "import torch.nn as nn\n",
        "import torch.optim as optim\n",
        "from torch.utils.data import DataLoader, TensorDataset\n",
        "from redes import FaceClassifierNN\n",
        "\n",
        "plt.style.use('ggplot')\n",
        "\n"
      ]
    },
    {
      "cell_type": "code",
      "execution_count": 2,
      "id": "4baab563",
      "metadata": {},
      "outputs": [],
      "source": [
        "def guardar_pipeline(scaler,pca,modelo,nombre):\n",
        "    \"\"\"\n",
        "    Guarda el pipeline del modelo, el escalador y el PCA en un archivo .pkl.\n",
        "    \"\"\"\n",
        "    pipeline = Pipeline([\n",
        "    ('scaler', scaler),\n",
        "    ('pca', pca),\n",
        "    ('clf', modelo)\n",
        "])\n",
        "    joblib.dump(pipeline, f'modelos/{nombre}.pkl')\n",
        "    print(f\"Pipeline guardado como '{nombre}.pkl'\")"
      ]
    },
    {
      "cell_type": "markdown",
      "id": "cbecf80c",
      "metadata": {
        "id": "cbecf80c"
      },
      "source": [
        "## Tarea 1\n",
        "\n",
        "Generar un conjunto de datos con imagenes de fondo (sin rostros)"
      ]
    },
    {
      "cell_type": "code",
      "execution_count": 3,
      "id": "2cfdb35e",
      "metadata": {
        "colab": {
          "base_uri": "https://localhost:8080/"
        },
        "id": "2cfdb35e",
        "outputId": "7ce8b92c-2b91-4ed0-a74c-d856248e7e5e"
      },
      "outputs": [
        {
          "name": "stderr",
          "output_type": "stream",
          "text": [
            "Procesando imágenes: 100%|██████████| 40/40 [00:08<00:00,  4.83it/s]\n"
          ]
        },
        {
          "data": {
            "text/plain": [
              "(60000, 64, 64)"
            ]
          },
          "execution_count": 3,
          "metadata": {},
          "output_type": "execute_result"
        }
      ],
      "source": [
        "images = []\n",
        "\n",
        "# Creamos el directorio de Background si no existe\n",
        "if not os.path.exists('Background'):\n",
        "    os.makedirs('Background')\n",
        "    #Descargamos el archivo zip de Background\n",
        "    with zipfile.ZipFile('Background.zip', 'r') as zip_ref:\n",
        "        zip_ref.extractall('Background')\n",
        "\n",
        "# Cargamos imagenes de sklearn\n",
        "imgs = ['text',\n",
        "        'coins',\n",
        "        'moon',\n",
        "        'page',\n",
        "        'clock',\n",
        "        'immunohistochemistry',\n",
        "        'chelsea',\n",
        "        'coffee',\n",
        "        'hubble_deep_field',\n",
        "        #'astronaut',\n",
        "        ]\n",
        "\n",
        "for name in imgs:\n",
        "    img = getattr(data, name)()\n",
        "    if len(img.shape) == 3 and img.shape[2] == 3:  # Chequeamos si la imagen es RGB\n",
        "        img = color.rgb2gray(img)\n",
        "    images.append(resize(img, (100,100)))\n",
        "\n",
        "# Cargamos imagenes de Background\n",
        "# iteramos en todas las files de background\n",
        "for file in os.listdir('Background'):\n",
        "    if file.endswith('.jpg'):\n",
        "        filename = os.path.join('Background', file)\n",
        "        img = plt.imread(filename)\n",
        "        if len(img.shape) == 3 and img.shape[2] == 3:  # Chequeamos si la imagen es RGB\n",
        "            img = color.rgb2gray(img)\n",
        "        images.append(resize(img, (100,100)))\n",
        "\n",
        "# Extraemos las imágenes de fondo\n",
        "negative_patches = np.vstack([extract_patches(im, 300, scale) for im in tqdm(images, desc='Procesando imágenes') for scale in [0.1,0.25,0.5,0.75,1]])\n",
        "negative_patches.shape\n"
      ]
    },
    {
      "cell_type": "markdown",
      "id": "941f569d",
      "metadata": {
        "id": "941f569d"
      },
      "source": [
        "## Tarea 2\n",
        "\n",
        "Evaluar la técnica de componentes principales (PCA) para la clasificacion de rostros"
      ]
    },
    {
      "cell_type": "code",
      "execution_count": 4,
      "id": "bff45617",
      "metadata": {
        "colab": {
          "base_uri": "https://localhost:8080/"
        },
        "id": "bff45617",
        "outputId": "dd8d04e1-3769-4d00-ede0-7cf804f46334"
      },
      "outputs": [
        {
          "name": "stderr",
          "output_type": "stream",
          "text": [
            "  0%|          | 0/12833 [00:00<?, ?it/s]"
          ]
        },
        {
          "name": "stderr",
          "output_type": "stream",
          "text": [
            " 28%|██▊       | 3562/12833 [00:02<00:07, 1205.20it/s]\n"
          ]
        },
        {
          "ename": "KeyboardInterrupt",
          "evalue": "",
          "output_type": "error",
          "traceback": [
            "\u001b[1;31m---------------------------------------------------------------------------\u001b[0m",
            "\u001b[1;31mKeyboardInterrupt\u001b[0m                         Traceback (most recent call last)",
            "Cell \u001b[1;32mIn[4], line 15\u001b[0m\n\u001b[0;32m     13\u001b[0m \u001b[38;5;28;01mfor\u001b[39;00m filename \u001b[38;5;129;01min\u001b[39;00m tqdm(pgm_files):\n\u001b[0;32m     14\u001b[0m     path \u001b[38;5;241m=\u001b[39m os\u001b[38;5;241m.\u001b[39mpath\u001b[38;5;241m.\u001b[39mjoin(\u001b[38;5;124m'\u001b[39m\u001b[38;5;124mFaces\u001b[39m\u001b[38;5;124m'\u001b[39m, filename)\n\u001b[1;32m---> 15\u001b[0m     image \u001b[38;5;241m=\u001b[39m imageio\u001b[38;5;241m.\u001b[39mimread(path)\n\u001b[0;32m     16\u001b[0m     faces\u001b[38;5;241m.\u001b[39mappend(image)\n\u001b[0;32m     18\u001b[0m faces_array \u001b[38;5;241m=\u001b[39m np\u001b[38;5;241m.\u001b[39mstack(faces)\n",
            "File \u001b[1;32mc:\\Users\\joaco\\anaconda3\\envs\\ml-para-ia\\Lib\\site-packages\\imageio\\v2.py:359\u001b[0m, in \u001b[0;36mimread\u001b[1;34m(uri, format, **kwargs)\u001b[0m\n\u001b[0;32m    356\u001b[0m imopen_args \u001b[38;5;241m=\u001b[39m decypher_format_arg(\u001b[38;5;28mformat\u001b[39m)\n\u001b[0;32m    357\u001b[0m imopen_args[\u001b[38;5;124m\"\u001b[39m\u001b[38;5;124mlegacy_mode\u001b[39m\u001b[38;5;124m\"\u001b[39m] \u001b[38;5;241m=\u001b[39m \u001b[38;5;28;01mTrue\u001b[39;00m\n\u001b[1;32m--> 359\u001b[0m \u001b[38;5;28;01mwith\u001b[39;00m imopen(uri, \u001b[38;5;124m\"\u001b[39m\u001b[38;5;124mri\u001b[39m\u001b[38;5;124m\"\u001b[39m, \u001b[38;5;241m*\u001b[39m\u001b[38;5;241m*\u001b[39mimopen_args) \u001b[38;5;28;01mas\u001b[39;00m file:\n\u001b[0;32m    360\u001b[0m     result \u001b[38;5;241m=\u001b[39m file\u001b[38;5;241m.\u001b[39mread(index\u001b[38;5;241m=\u001b[39m\u001b[38;5;241m0\u001b[39m, \u001b[38;5;241m*\u001b[39m\u001b[38;5;241m*\u001b[39mkwargs)\n\u001b[0;32m    362\u001b[0m \u001b[38;5;28;01mreturn\u001b[39;00m result\n",
            "File \u001b[1;32mc:\\Users\\joaco\\anaconda3\\envs\\ml-para-ia\\Lib\\site-packages\\imageio\\core\\imopen.py:196\u001b[0m, in \u001b[0;36mimopen\u001b[1;34m(uri, io_mode, plugin, extension, format_hint, legacy_mode, **kwargs)\u001b[0m\n\u001b[0;32m    193\u001b[0m     \u001b[38;5;28;01mcontinue\u001b[39;00m\n\u001b[0;32m    195\u001b[0m \u001b[38;5;28;01mtry\u001b[39;00m:\n\u001b[1;32m--> 196\u001b[0m     plugin_instance \u001b[38;5;241m=\u001b[39m candidate_plugin(request, \u001b[38;5;241m*\u001b[39m\u001b[38;5;241m*\u001b[39mkwargs)\n\u001b[0;32m    197\u001b[0m \u001b[38;5;28;01mexcept\u001b[39;00m InitializationError:\n\u001b[0;32m    198\u001b[0m     \u001b[38;5;66;03m# file extension doesn't match file type\u001b[39;00m\n\u001b[0;32m    199\u001b[0m     \u001b[38;5;28;01mcontinue\u001b[39;00m\n",
            "File \u001b[1;32mc:\\Users\\joaco\\anaconda3\\envs\\ml-para-ia\\Lib\\site-packages\\imageio\\plugins\\pillow.py:93\u001b[0m, in \u001b[0;36mPillowPlugin.__init__\u001b[1;34m(self, request)\u001b[0m\n\u001b[0;32m     91\u001b[0m \u001b[38;5;66;03m# Register AVIF opener for Pillow\u001b[39;00m\n\u001b[0;32m     92\u001b[0m \u001b[38;5;28;01mtry\u001b[39;00m:\n\u001b[1;32m---> 93\u001b[0m     \u001b[38;5;28;01mfrom\u001b[39;00m \u001b[38;5;21;01mpillow_heif\u001b[39;00m \u001b[38;5;28;01mimport\u001b[39;00m register_avif_opener\n\u001b[0;32m     94\u001b[0m \u001b[38;5;28;01mexcept\u001b[39;00m \u001b[38;5;167;01mImportError\u001b[39;00m:\n\u001b[0;32m     95\u001b[0m     \u001b[38;5;28;01mpass\u001b[39;00m\n",
            "File \u001b[1;32m<frozen importlib._bootstrap>:1360\u001b[0m, in \u001b[0;36m_find_and_load\u001b[1;34m(name, import_)\u001b[0m\n",
            "File \u001b[1;32m<frozen importlib._bootstrap>:1322\u001b[0m, in \u001b[0;36m_find_and_load_unlocked\u001b[1;34m(name, import_)\u001b[0m\n",
            "File \u001b[1;32m<frozen importlib._bootstrap>:1262\u001b[0m, in \u001b[0;36m_find_spec\u001b[1;34m(name, path, target)\u001b[0m\n",
            "File \u001b[1;32m<frozen importlib._bootstrap_external>:1559\u001b[0m, in \u001b[0;36mfind_spec\u001b[1;34m(cls, fullname, path, target)\u001b[0m\n",
            "File \u001b[1;32m<frozen importlib._bootstrap_external>:1533\u001b[0m, in \u001b[0;36m_get_spec\u001b[1;34m(cls, fullname, path, target)\u001b[0m\n",
            "File \u001b[1;32m<frozen importlib._bootstrap_external>:1632\u001b[0m, in \u001b[0;36mfind_spec\u001b[1;34m(self, fullname, target)\u001b[0m\n",
            "File \u001b[1;32m<frozen importlib._bootstrap_external>:152\u001b[0m, in \u001b[0;36m_path_stat\u001b[1;34m(path)\u001b[0m\n",
            "\u001b[1;31mKeyboardInterrupt\u001b[0m: "
          ]
        }
      ],
      "source": [
        "faces = []\n",
        "\n",
        "#Cargamos caras\n",
        "if not os.path.exists('Faces'):\n",
        "    os.makedirs('Faces')\n",
        "    with zipfile.ZipFile('Faces.zip', 'r') as zip_ref:\n",
        "        zip_ref.extractall()\n",
        "\n",
        "\n",
        "all_files = os.listdir('Faces')\n",
        "pgm_files = [filename for filename in all_files if filename.endswith('.pgm')]\n",
        "\n",
        "for filename in tqdm(pgm_files):\n",
        "    path = os.path.join('Faces', filename)\n",
        "    image = imageio.imread(path)\n",
        "    faces.append(image)\n",
        "\n",
        "faces_array = np.stack(faces)\n",
        "faces_array = faces_array / 255.0"
      ]
    },
    {
      "cell_type": "code",
      "execution_count": null,
      "id": "21a0c739",
      "metadata": {
        "id": "21a0c739"
      },
      "outputs": [],
      "source": [
        "  # Etiquetas para las imágenes de rostros\n",
        "X_faces = faces_array\n",
        "y_faces = [1] * len(X_faces)\n",
        "\n",
        " # Etiquetas para las imágenes de fondo\n",
        "X_fondos = negative_patches\n",
        "y_fondos = [0] * len(X_fondos)\n",
        "\n",
        "# Etiquetas combinadas\n",
        "X = np.vstack([X_faces,X_fondos])\n",
        "y = np.hstack([y_faces,y_fondos])"
      ]
    },
    {
      "cell_type": "code",
      "execution_count": null,
      "id": "65f7db04",
      "metadata": {},
      "outputs": [
        {
          "name": "stderr",
          "output_type": "stream",
          "text": [
            "Extrayendo HOG features: 100%|██████████| 72833/72833 [01:06<00:00, 1094.38it/s]\n"
          ]
        }
      ],
      "source": [
        "hog_features = []\n",
        "for img in tqdm(X, desc='Extrayendo HOG features'):\n",
        "    fd = feature.hog(img, visualize=False)\n",
        "    hog_features.append(fd)\n"
      ]
    },
    {
      "cell_type": "code",
      "execution_count": null,
      "id": "3e869868",
      "metadata": {},
      "outputs": [],
      "source": [
        "#Pasamos la lista a un array de numpy\n",
        "hog_features = np.vstack(hog_features)\n"
      ]
    },
    {
      "cell_type": "code",
      "execution_count": null,
      "id": "71c746ab",
      "metadata": {},
      "outputs": [],
      "source": [
        "# Guardamos el dataset total para luego de la seleccion y validacion volver a entrenar con todo el dataset\n",
        "X_total = hog_features\n",
        "y_total = y"
      ]
    },
    {
      "cell_type": "markdown",
      "id": "30f02ca1",
      "metadata": {},
      "source": [
        "Separamos el set en Train y Validación utilizando el 10% para lo segundo"
      ]
    },
    {
      "cell_type": "code",
      "execution_count": null,
      "id": "e03b0610",
      "metadata": {},
      "outputs": [],
      "source": [
        "X_train, X_val, y_train, y_val = train_test_split(hog_features, y, test_size=0.1, random_state=42)"
      ]
    },
    {
      "cell_type": "markdown",
      "id": "ad2eca5c",
      "metadata": {},
      "source": [
        "Creamos el Scaler"
      ]
    },
    {
      "cell_type": "code",
      "execution_count": null,
      "id": "28ad18d4",
      "metadata": {},
      "outputs": [],
      "source": [
        "scaler = StandardScaler()\n",
        "scaler.fit(X_train)\n",
        "X_train = scaler.transform(X_train)\n",
        "X_val = scaler.transform(X_val)"
      ]
    },
    {
      "cell_type": "markdown",
      "id": "25a14859",
      "metadata": {},
      "source": [
        "Probamos PCA con 500 componentes para obtener la cantidad de componentes que explique el 95% de la varianza del set"
      ]
    },
    {
      "cell_type": "code",
      "execution_count": null,
      "id": "3354d690",
      "metadata": {
        "id": "3354d690"
      },
      "outputs": [
        {
          "data": {
            "text/html": [
              "<style>#sk-container-id-1 {\n",
              "  /* Definition of color scheme common for light and dark mode */\n",
              "  --sklearn-color-text: #000;\n",
              "  --sklearn-color-text-muted: #666;\n",
              "  --sklearn-color-line: gray;\n",
              "  /* Definition of color scheme for unfitted estimators */\n",
              "  --sklearn-color-unfitted-level-0: #fff5e6;\n",
              "  --sklearn-color-unfitted-level-1: #f6e4d2;\n",
              "  --sklearn-color-unfitted-level-2: #ffe0b3;\n",
              "  --sklearn-color-unfitted-level-3: chocolate;\n",
              "  /* Definition of color scheme for fitted estimators */\n",
              "  --sklearn-color-fitted-level-0: #f0f8ff;\n",
              "  --sklearn-color-fitted-level-1: #d4ebff;\n",
              "  --sklearn-color-fitted-level-2: #b3dbfd;\n",
              "  --sklearn-color-fitted-level-3: cornflowerblue;\n",
              "\n",
              "  /* Specific color for light theme */\n",
              "  --sklearn-color-text-on-default-background: var(--sg-text-color, var(--theme-code-foreground, var(--jp-content-font-color1, black)));\n",
              "  --sklearn-color-background: var(--sg-background-color, var(--theme-background, var(--jp-layout-color0, white)));\n",
              "  --sklearn-color-border-box: var(--sg-text-color, var(--theme-code-foreground, var(--jp-content-font-color1, black)));\n",
              "  --sklearn-color-icon: #696969;\n",
              "\n",
              "  @media (prefers-color-scheme: dark) {\n",
              "    /* Redefinition of color scheme for dark theme */\n",
              "    --sklearn-color-text-on-default-background: var(--sg-text-color, var(--theme-code-foreground, var(--jp-content-font-color1, white)));\n",
              "    --sklearn-color-background: var(--sg-background-color, var(--theme-background, var(--jp-layout-color0, #111)));\n",
              "    --sklearn-color-border-box: var(--sg-text-color, var(--theme-code-foreground, var(--jp-content-font-color1, white)));\n",
              "    --sklearn-color-icon: #878787;\n",
              "  }\n",
              "}\n",
              "\n",
              "#sk-container-id-1 {\n",
              "  color: var(--sklearn-color-text);\n",
              "}\n",
              "\n",
              "#sk-container-id-1 pre {\n",
              "  padding: 0;\n",
              "}\n",
              "\n",
              "#sk-container-id-1 input.sk-hidden--visually {\n",
              "  border: 0;\n",
              "  clip: rect(1px 1px 1px 1px);\n",
              "  clip: rect(1px, 1px, 1px, 1px);\n",
              "  height: 1px;\n",
              "  margin: -1px;\n",
              "  overflow: hidden;\n",
              "  padding: 0;\n",
              "  position: absolute;\n",
              "  width: 1px;\n",
              "}\n",
              "\n",
              "#sk-container-id-1 div.sk-dashed-wrapped {\n",
              "  border: 1px dashed var(--sklearn-color-line);\n",
              "  margin: 0 0.4em 0.5em 0.4em;\n",
              "  box-sizing: border-box;\n",
              "  padding-bottom: 0.4em;\n",
              "  background-color: var(--sklearn-color-background);\n",
              "}\n",
              "\n",
              "#sk-container-id-1 div.sk-container {\n",
              "  /* jupyter's `normalize.less` sets `[hidden] { display: none; }`\n",
              "     but bootstrap.min.css set `[hidden] { display: none !important; }`\n",
              "     so we also need the `!important` here to be able to override the\n",
              "     default hidden behavior on the sphinx rendered scikit-learn.org.\n",
              "     See: https://github.com/scikit-learn/scikit-learn/issues/21755 */\n",
              "  display: inline-block !important;\n",
              "  position: relative;\n",
              "}\n",
              "\n",
              "#sk-container-id-1 div.sk-text-repr-fallback {\n",
              "  display: none;\n",
              "}\n",
              "\n",
              "div.sk-parallel-item,\n",
              "div.sk-serial,\n",
              "div.sk-item {\n",
              "  /* draw centered vertical line to link estimators */\n",
              "  background-image: linear-gradient(var(--sklearn-color-text-on-default-background), var(--sklearn-color-text-on-default-background));\n",
              "  background-size: 2px 100%;\n",
              "  background-repeat: no-repeat;\n",
              "  background-position: center center;\n",
              "}\n",
              "\n",
              "/* Parallel-specific style estimator block */\n",
              "\n",
              "#sk-container-id-1 div.sk-parallel-item::after {\n",
              "  content: \"\";\n",
              "  width: 100%;\n",
              "  border-bottom: 2px solid var(--sklearn-color-text-on-default-background);\n",
              "  flex-grow: 1;\n",
              "}\n",
              "\n",
              "#sk-container-id-1 div.sk-parallel {\n",
              "  display: flex;\n",
              "  align-items: stretch;\n",
              "  justify-content: center;\n",
              "  background-color: var(--sklearn-color-background);\n",
              "  position: relative;\n",
              "}\n",
              "\n",
              "#sk-container-id-1 div.sk-parallel-item {\n",
              "  display: flex;\n",
              "  flex-direction: column;\n",
              "}\n",
              "\n",
              "#sk-container-id-1 div.sk-parallel-item:first-child::after {\n",
              "  align-self: flex-end;\n",
              "  width: 50%;\n",
              "}\n",
              "\n",
              "#sk-container-id-1 div.sk-parallel-item:last-child::after {\n",
              "  align-self: flex-start;\n",
              "  width: 50%;\n",
              "}\n",
              "\n",
              "#sk-container-id-1 div.sk-parallel-item:only-child::after {\n",
              "  width: 0;\n",
              "}\n",
              "\n",
              "/* Serial-specific style estimator block */\n",
              "\n",
              "#sk-container-id-1 div.sk-serial {\n",
              "  display: flex;\n",
              "  flex-direction: column;\n",
              "  align-items: center;\n",
              "  background-color: var(--sklearn-color-background);\n",
              "  padding-right: 1em;\n",
              "  padding-left: 1em;\n",
              "}\n",
              "\n",
              "\n",
              "/* Toggleable style: style used for estimator/Pipeline/ColumnTransformer box that is\n",
              "clickable and can be expanded/collapsed.\n",
              "- Pipeline and ColumnTransformer use this feature and define the default style\n",
              "- Estimators will overwrite some part of the style using the `sk-estimator` class\n",
              "*/\n",
              "\n",
              "/* Pipeline and ColumnTransformer style (default) */\n",
              "\n",
              "#sk-container-id-1 div.sk-toggleable {\n",
              "  /* Default theme specific background. It is overwritten whether we have a\n",
              "  specific estimator or a Pipeline/ColumnTransformer */\n",
              "  background-color: var(--sklearn-color-background);\n",
              "}\n",
              "\n",
              "/* Toggleable label */\n",
              "#sk-container-id-1 label.sk-toggleable__label {\n",
              "  cursor: pointer;\n",
              "  display: flex;\n",
              "  width: 100%;\n",
              "  margin-bottom: 0;\n",
              "  padding: 0.5em;\n",
              "  box-sizing: border-box;\n",
              "  text-align: center;\n",
              "  align-items: start;\n",
              "  justify-content: space-between;\n",
              "  gap: 0.5em;\n",
              "}\n",
              "\n",
              "#sk-container-id-1 label.sk-toggleable__label .caption {\n",
              "  font-size: 0.6rem;\n",
              "  font-weight: lighter;\n",
              "  color: var(--sklearn-color-text-muted);\n",
              "}\n",
              "\n",
              "#sk-container-id-1 label.sk-toggleable__label-arrow:before {\n",
              "  /* Arrow on the left of the label */\n",
              "  content: \"▸\";\n",
              "  float: left;\n",
              "  margin-right: 0.25em;\n",
              "  color: var(--sklearn-color-icon);\n",
              "}\n",
              "\n",
              "#sk-container-id-1 label.sk-toggleable__label-arrow:hover:before {\n",
              "  color: var(--sklearn-color-text);\n",
              "}\n",
              "\n",
              "/* Toggleable content - dropdown */\n",
              "\n",
              "#sk-container-id-1 div.sk-toggleable__content {\n",
              "  max-height: 0;\n",
              "  max-width: 0;\n",
              "  overflow: hidden;\n",
              "  text-align: left;\n",
              "  /* unfitted */\n",
              "  background-color: var(--sklearn-color-unfitted-level-0);\n",
              "}\n",
              "\n",
              "#sk-container-id-1 div.sk-toggleable__content.fitted {\n",
              "  /* fitted */\n",
              "  background-color: var(--sklearn-color-fitted-level-0);\n",
              "}\n",
              "\n",
              "#sk-container-id-1 div.sk-toggleable__content pre {\n",
              "  margin: 0.2em;\n",
              "  border-radius: 0.25em;\n",
              "  color: var(--sklearn-color-text);\n",
              "  /* unfitted */\n",
              "  background-color: var(--sklearn-color-unfitted-level-0);\n",
              "}\n",
              "\n",
              "#sk-container-id-1 div.sk-toggleable__content.fitted pre {\n",
              "  /* unfitted */\n",
              "  background-color: var(--sklearn-color-fitted-level-0);\n",
              "}\n",
              "\n",
              "#sk-container-id-1 input.sk-toggleable__control:checked~div.sk-toggleable__content {\n",
              "  /* Expand drop-down */\n",
              "  max-height: 200px;\n",
              "  max-width: 100%;\n",
              "  overflow: auto;\n",
              "}\n",
              "\n",
              "#sk-container-id-1 input.sk-toggleable__control:checked~label.sk-toggleable__label-arrow:before {\n",
              "  content: \"▾\";\n",
              "}\n",
              "\n",
              "/* Pipeline/ColumnTransformer-specific style */\n",
              "\n",
              "#sk-container-id-1 div.sk-label input.sk-toggleable__control:checked~label.sk-toggleable__label {\n",
              "  color: var(--sklearn-color-text);\n",
              "  background-color: var(--sklearn-color-unfitted-level-2);\n",
              "}\n",
              "\n",
              "#sk-container-id-1 div.sk-label.fitted input.sk-toggleable__control:checked~label.sk-toggleable__label {\n",
              "  background-color: var(--sklearn-color-fitted-level-2);\n",
              "}\n",
              "\n",
              "/* Estimator-specific style */\n",
              "\n",
              "/* Colorize estimator box */\n",
              "#sk-container-id-1 div.sk-estimator input.sk-toggleable__control:checked~label.sk-toggleable__label {\n",
              "  /* unfitted */\n",
              "  background-color: var(--sklearn-color-unfitted-level-2);\n",
              "}\n",
              "\n",
              "#sk-container-id-1 div.sk-estimator.fitted input.sk-toggleable__control:checked~label.sk-toggleable__label {\n",
              "  /* fitted */\n",
              "  background-color: var(--sklearn-color-fitted-level-2);\n",
              "}\n",
              "\n",
              "#sk-container-id-1 div.sk-label label.sk-toggleable__label,\n",
              "#sk-container-id-1 div.sk-label label {\n",
              "  /* The background is the default theme color */\n",
              "  color: var(--sklearn-color-text-on-default-background);\n",
              "}\n",
              "\n",
              "/* On hover, darken the color of the background */\n",
              "#sk-container-id-1 div.sk-label:hover label.sk-toggleable__label {\n",
              "  color: var(--sklearn-color-text);\n",
              "  background-color: var(--sklearn-color-unfitted-level-2);\n",
              "}\n",
              "\n",
              "/* Label box, darken color on hover, fitted */\n",
              "#sk-container-id-1 div.sk-label.fitted:hover label.sk-toggleable__label.fitted {\n",
              "  color: var(--sklearn-color-text);\n",
              "  background-color: var(--sklearn-color-fitted-level-2);\n",
              "}\n",
              "\n",
              "/* Estimator label */\n",
              "\n",
              "#sk-container-id-1 div.sk-label label {\n",
              "  font-family: monospace;\n",
              "  font-weight: bold;\n",
              "  display: inline-block;\n",
              "  line-height: 1.2em;\n",
              "}\n",
              "\n",
              "#sk-container-id-1 div.sk-label-container {\n",
              "  text-align: center;\n",
              "}\n",
              "\n",
              "/* Estimator-specific */\n",
              "#sk-container-id-1 div.sk-estimator {\n",
              "  font-family: monospace;\n",
              "  border: 1px dotted var(--sklearn-color-border-box);\n",
              "  border-radius: 0.25em;\n",
              "  box-sizing: border-box;\n",
              "  margin-bottom: 0.5em;\n",
              "  /* unfitted */\n",
              "  background-color: var(--sklearn-color-unfitted-level-0);\n",
              "}\n",
              "\n",
              "#sk-container-id-1 div.sk-estimator.fitted {\n",
              "  /* fitted */\n",
              "  background-color: var(--sklearn-color-fitted-level-0);\n",
              "}\n",
              "\n",
              "/* on hover */\n",
              "#sk-container-id-1 div.sk-estimator:hover {\n",
              "  /* unfitted */\n",
              "  background-color: var(--sklearn-color-unfitted-level-2);\n",
              "}\n",
              "\n",
              "#sk-container-id-1 div.sk-estimator.fitted:hover {\n",
              "  /* fitted */\n",
              "  background-color: var(--sklearn-color-fitted-level-2);\n",
              "}\n",
              "\n",
              "/* Specification for estimator info (e.g. \"i\" and \"?\") */\n",
              "\n",
              "/* Common style for \"i\" and \"?\" */\n",
              "\n",
              ".sk-estimator-doc-link,\n",
              "a:link.sk-estimator-doc-link,\n",
              "a:visited.sk-estimator-doc-link {\n",
              "  float: right;\n",
              "  font-size: smaller;\n",
              "  line-height: 1em;\n",
              "  font-family: monospace;\n",
              "  background-color: var(--sklearn-color-background);\n",
              "  border-radius: 1em;\n",
              "  height: 1em;\n",
              "  width: 1em;\n",
              "  text-decoration: none !important;\n",
              "  margin-left: 0.5em;\n",
              "  text-align: center;\n",
              "  /* unfitted */\n",
              "  border: var(--sklearn-color-unfitted-level-1) 1pt solid;\n",
              "  color: var(--sklearn-color-unfitted-level-1);\n",
              "}\n",
              "\n",
              ".sk-estimator-doc-link.fitted,\n",
              "a:link.sk-estimator-doc-link.fitted,\n",
              "a:visited.sk-estimator-doc-link.fitted {\n",
              "  /* fitted */\n",
              "  border: var(--sklearn-color-fitted-level-1) 1pt solid;\n",
              "  color: var(--sklearn-color-fitted-level-1);\n",
              "}\n",
              "\n",
              "/* On hover */\n",
              "div.sk-estimator:hover .sk-estimator-doc-link:hover,\n",
              ".sk-estimator-doc-link:hover,\n",
              "div.sk-label-container:hover .sk-estimator-doc-link:hover,\n",
              ".sk-estimator-doc-link:hover {\n",
              "  /* unfitted */\n",
              "  background-color: var(--sklearn-color-unfitted-level-3);\n",
              "  color: var(--sklearn-color-background);\n",
              "  text-decoration: none;\n",
              "}\n",
              "\n",
              "div.sk-estimator.fitted:hover .sk-estimator-doc-link.fitted:hover,\n",
              ".sk-estimator-doc-link.fitted:hover,\n",
              "div.sk-label-container:hover .sk-estimator-doc-link.fitted:hover,\n",
              ".sk-estimator-doc-link.fitted:hover {\n",
              "  /* fitted */\n",
              "  background-color: var(--sklearn-color-fitted-level-3);\n",
              "  color: var(--sklearn-color-background);\n",
              "  text-decoration: none;\n",
              "}\n",
              "\n",
              "/* Span, style for the box shown on hovering the info icon */\n",
              ".sk-estimator-doc-link span {\n",
              "  display: none;\n",
              "  z-index: 9999;\n",
              "  position: relative;\n",
              "  font-weight: normal;\n",
              "  right: .2ex;\n",
              "  padding: .5ex;\n",
              "  margin: .5ex;\n",
              "  width: min-content;\n",
              "  min-width: 20ex;\n",
              "  max-width: 50ex;\n",
              "  color: var(--sklearn-color-text);\n",
              "  box-shadow: 2pt 2pt 4pt #999;\n",
              "  /* unfitted */\n",
              "  background: var(--sklearn-color-unfitted-level-0);\n",
              "  border: .5pt solid var(--sklearn-color-unfitted-level-3);\n",
              "}\n",
              "\n",
              ".sk-estimator-doc-link.fitted span {\n",
              "  /* fitted */\n",
              "  background: var(--sklearn-color-fitted-level-0);\n",
              "  border: var(--sklearn-color-fitted-level-3);\n",
              "}\n",
              "\n",
              ".sk-estimator-doc-link:hover span {\n",
              "  display: block;\n",
              "}\n",
              "\n",
              "/* \"?\"-specific style due to the `<a>` HTML tag */\n",
              "\n",
              "#sk-container-id-1 a.estimator_doc_link {\n",
              "  float: right;\n",
              "  font-size: 1rem;\n",
              "  line-height: 1em;\n",
              "  font-family: monospace;\n",
              "  background-color: var(--sklearn-color-background);\n",
              "  border-radius: 1rem;\n",
              "  height: 1rem;\n",
              "  width: 1rem;\n",
              "  text-decoration: none;\n",
              "  /* unfitted */\n",
              "  color: var(--sklearn-color-unfitted-level-1);\n",
              "  border: var(--sklearn-color-unfitted-level-1) 1pt solid;\n",
              "}\n",
              "\n",
              "#sk-container-id-1 a.estimator_doc_link.fitted {\n",
              "  /* fitted */\n",
              "  border: var(--sklearn-color-fitted-level-1) 1pt solid;\n",
              "  color: var(--sklearn-color-fitted-level-1);\n",
              "}\n",
              "\n",
              "/* On hover */\n",
              "#sk-container-id-1 a.estimator_doc_link:hover {\n",
              "  /* unfitted */\n",
              "  background-color: var(--sklearn-color-unfitted-level-3);\n",
              "  color: var(--sklearn-color-background);\n",
              "  text-decoration: none;\n",
              "}\n",
              "\n",
              "#sk-container-id-1 a.estimator_doc_link.fitted:hover {\n",
              "  /* fitted */\n",
              "  background-color: var(--sklearn-color-fitted-level-3);\n",
              "}\n",
              "</style><div id=\"sk-container-id-1\" class=\"sk-top-container\"><div class=\"sk-text-repr-fallback\"><pre>PCA(n_components=500)</pre><b>In a Jupyter environment, please rerun this cell to show the HTML representation or trust the notebook. <br />On GitHub, the HTML representation is unable to render, please try loading this page with nbviewer.org.</b></div><div class=\"sk-container\" hidden><div class=\"sk-item\"><div class=\"sk-estimator fitted sk-toggleable\"><input class=\"sk-toggleable__control sk-hidden--visually\" id=\"sk-estimator-id-1\" type=\"checkbox\" checked><label for=\"sk-estimator-id-1\" class=\"sk-toggleable__label fitted sk-toggleable__label-arrow\"><div><div>PCA</div></div><div><a class=\"sk-estimator-doc-link fitted\" rel=\"noreferrer\" target=\"_blank\" href=\"https://scikit-learn.org/1.6/modules/generated/sklearn.decomposition.PCA.html\">?<span>Documentation for PCA</span></a><span class=\"sk-estimator-doc-link fitted\">i<span>Fitted</span></span></div></label><div class=\"sk-toggleable__content fitted\"><pre>PCA(n_components=500)</pre></div> </div></div></div></div>"
            ],
            "text/plain": [
              "PCA(n_components=500)"
            ]
          },
          "execution_count": 11,
          "metadata": {},
          "output_type": "execute_result"
        }
      ],
      "source": [
        "pca = PCA(n_components=500)\n",
        "pca.fit(X_train)"
      ]
    },
    {
      "cell_type": "code",
      "execution_count": null,
      "id": "5d511b07",
      "metadata": {},
      "outputs": [
        {
          "name": "stdout",
          "output_type": "stream",
          "text": [
            "El número de componentes principales que explican al menos el 95% de la varianza es: 459\n"
          ]
        }
      ],
      "source": [
        "pca_idx = np.argmax(np.cumsum(pca.explained_variance_ratio_) >= 0.95) +1\n",
        "print(f\"El número de componentes principales que explican al menos el 95% de la varianza es: {pca_idx}\")"
      ]
    },
    {
      "cell_type": "code",
      "execution_count": null,
      "id": "66bc7eb9",
      "metadata": {
        "colab": {
          "base_uri": "https://localhost:8080/",
          "height": 599
        },
        "id": "66bc7eb9",
        "outputId": "2dcc2350-6fc3-4b0d-f3ad-fa2c5a6c34ea"
      },
      "outputs": [
        {
          "data": {
            "image/png": "[encoded data removed]",
            "text/plain": [
              "<Figure size 1000x700 with 1 Axes>"
            ]
          },
          "metadata": {},
          "output_type": "display_data"
        }
      ],
      "source": [
        "fig, ax = plt.subplots(1, figsize=(10, 7))\n",
        "ax.axhline(y=0.95, color='r', linestyle='--', label='95%')\n",
        "ax.axvline(x=459, color='k', linestyle='--', label='x = 459')\n",
        "plt.plot(np.cumsum(pca.explained_variance_ratio_), label=f'{500} componentes')\n",
        "plt.show()"
      ]
    },
    {
      "cell_type": "markdown",
      "id": "8cd2126f",
      "metadata": {
        "id": "8cd2126f"
      },
      "source": [
        "Tomamos 459 como la cantidad de componentes principales ya que pasa el umbral definido de 95% de la varianza explicada"
      ]
    },
    {
      "cell_type": "code",
      "execution_count": null,
      "id": "d4f18c54",
      "metadata": {},
      "outputs": [],
      "source": [
        "pca_final = PCA(n_components=pca_idx)\n",
        "X_pca_train = pca_final.fit_transform(X_train)\n",
        "X_pca_val = pca_final.transform(X_val)"
      ]
    },
    {
      "cell_type": "code",
      "execution_count": null,
      "id": "84f6a110",
      "metadata": {},
      "outputs": [
        {
          "name": "stdout",
          "output_type": "stream",
          "text": [
            "Las primeras 3 componentes del PCA elegido explican el 15.78% de la varianza\n"
          ]
        }
      ],
      "source": [
        "print(f'Las primeras 3 componentes del PCA elegido explican el {float(np.cumsum(pca_final.explained_variance_ratio_)[2] *100):.2f}% de la varianza')"
      ]
    },
    {
      "cell_type": "markdown",
      "id": "259e7608",
      "metadata": {
        "id": "259e7608"
      },
      "source": [
        "### Visualizamos las primeras componentes"
      ]
    },
    {
      "cell_type": "code",
      "execution_count": null,
      "id": "967db1a7",
      "metadata": {
        "colab": {
          "base_uri": "https://localhost:8080/",
          "height": 478
        },
        "id": "967db1a7",
        "outputId": "127240b8-7f17-4827-d5b5-a0c348bbbcb1"
      },
      "outputs": [
        {
          "data": {
            "image/png": "[encoded data removed]",
            "text/plain": [
              "<Figure size 640x480 with 1 Axes>"
            ]
          },
          "metadata": {},
          "output_type": "display_data"
        }
      ],
      "source": [
        "X_pca_train = pca_final.transform(X_train)\n",
        "\n",
        "plt.scatter(X_pca_train[:,0], X_pca_train[:,1], alpha=0.4,c=y_train)\n",
        "\n",
        "plt.xlabel('PC1')\n",
        "plt.ylabel('PC2')\n",
        "plt.title('Proyección')\n",
        "plt.show()"
      ]
    },
    {
      "cell_type": "code",
      "execution_count": null,
      "id": "d871766d",
      "metadata": {
        "colab": {
          "base_uri": "https://localhost:8080/",
          "height": 429
        },
        "id": "d871766d",
        "outputId": "86778793-e4f2-4779-aee0-fec6bc43ebd3"
      },
      "outputs": [
        {
          "data": {
            "image/png": "[encoded data removed]",
            "text/plain": [
              "<Figure size 640x480 with 1 Axes>"
            ]
          },
          "metadata": {},
          "output_type": "display_data"
        }
      ],
      "source": [
        "# Plot 3D\n",
        "fig = plt.figure()\n",
        "ax = fig.add_subplot(111, projection='3d')\n",
        "\n",
        "\n",
        "ax.scatter(X_pca_train[:,0], X_pca_train[:,1], X_pca_train[:,2], alpha=0.4,c=y_train)\n",
        "\n",
        "ax.set_xlabel('PC1')\n",
        "ax.set_ylabel('PC2')\n",
        "ax.set_zlabel('PC3')\n",
        "\n",
        "ax.view_init(elev=15, azim=30)\n",
        "\n",
        "ax.set_title('PCA - Primeras 3 componentes')\n",
        "plt.show()"
      ]
    },
    {
      "cell_type": "markdown",
      "id": "d93e8a43",
      "metadata": {
        "id": "d93e8a43"
      },
      "source": [
        "## Modelos sencillo de clasificación"
      ]
    },
    {
      "cell_type": "markdown",
      "id": "ade4c6a9",
      "metadata": {},
      "source": [
        "### Árboles de Decisión"
      ]
    },
    {
      "cell_type": "markdown",
      "id": "433f51eb",
      "metadata": {},
      "source": [
        "Entrenamos 3 árboles de decision, de profundidad 2, 5 y 10:"
      ]
    },
    {
      "cell_type": "markdown",
      "id": "51494ca6",
      "metadata": {},
      "source": [
        "Entrenamos 3 árboles de decision, de profundidad 2, 5 y 10. Utilizamos validación cruzada para evaluar el rendimiento de cada modelo y luego los evaluamos en el conjunto de validación.\n",
        "Utilizamos f1 score como métrica de evaluación, ya que es más adecuada para conjuntos de datos desbalanceados como el nuestro."
      ]
    },
    {
      "cell_type": "code",
      "execution_count": null,
      "id": "b4ef4ffa",
      "metadata": {},
      "outputs": [
        {
          "data": {
            "image/png": "[encoded data removed]",
            "text/plain": [
              "<Figure size 640x480 with 1 Axes>"
            ]
          },
          "metadata": {},
          "output_type": "display_data"
        },
        {
          "name": "stdout",
          "output_type": "stream",
          "text": [
            "\n",
            " Resultados:\n",
            "\n",
            " Profundidad 2:\n",
            "  Accuracy: 0.9800\n",
            "  TPR: 0.8939\n",
            "  FPR: 0.0015\n",
            "  AUC: 0.9710\n",
            "  G-Mean: 0.9447\n",
            "  F1 Score: 0.9406\n",
            "\n",
            " Profundidad 5:\n",
            "  Accuracy: 0.9925\n",
            "  TPR: 0.9625\n",
            "  FPR: 0.0011\n",
            "  AUC: 0.9917\n",
            "  G-Mean: 0.9805\n",
            "  F1 Score: 0.9784\n",
            "\n",
            " Profundidad 10:\n",
            "  Accuracy: 0.9934\n",
            "  TPR: 0.9732\n",
            "  FPR: 0.0023\n",
            "  AUC: 0.9878\n",
            "  G-Mean: 0.9854\n",
            "  F1 Score: 0.9812\n",
            "\n",
            " El mejor árbol f1 score: 10 (F1 Score = 0.9812)\n"
          ]
        }
      ],
      "source": [
        "X = X_pca_train\n",
        "y = y_train\n",
        "\n",
        "depths = [2, 5, 10]\n",
        "cv = StratifiedKFold(n_splits=5, shuffle=True, random_state=42)\n",
        "\n",
        "results = {}\n",
        "best_f1 = -1\n",
        "best_depth = None\n",
        "\n",
        "for depth in depths:\n",
        "    acc, tprs, fprs, aucs, gmeans, f1s = [], [], [], [], [], []\n",
        "    all_true, all_probs = [], []\n",
        "\n",
        "    for train_idx, val_idx in cv.split(X, y):\n",
        "        X_train, X_val = X[train_idx], X[val_idx]\n",
        "        y_train_cv, y_val = y[train_idx], y[val_idx]\n",
        "\n",
        "        model = DecisionTreeClassifier(max_depth=depth, random_state=42)\n",
        "        model.fit(X_train, y_train_cv)\n",
        "        y_pred = model.predict(X_val)\n",
        "        y_proba = model.predict_proba(X_val)[:, 1]\n",
        "\n",
        "        # Confusion matrix para TPR y FPR\n",
        "        tn, fp, fn, tp = confusion_matrix(y_val, y_pred).ravel()\n",
        "        TPR = tp / (tp + fn) if (tp + fn) != 0 else 0\n",
        "        FPR = fp / (fp + tn) if (fp + tn) != 0 else 0\n",
        "\n",
        "        acc.append(accuracy_score(y_val, y_pred))\n",
        "        tprs.append(TPR)\n",
        "        fprs.append(FPR)\n",
        "        aucs.append(roc_auc_score(y_val, y_proba))\n",
        "        gmeans.append(geometric_mean_score(y_val, y_pred))\n",
        "        f1s.append(f1_score(y_val, y_pred))\n",
        "\n",
        "        all_true.extend(y_val)\n",
        "        all_probs.extend(y_proba)\n",
        "\n",
        "    # Guardamos los resultados en un diccionario\n",
        "    results[depth] = {\n",
        "        'Accuracy' : np.mean(acc),\n",
        "        'TPR': np.mean(tprs),\n",
        "        'FPR': np.mean(fprs),\n",
        "        'AUC': np.mean(aucs),\n",
        "        'G-Mean': np.mean(gmeans),\n",
        "        'F1 Score' : np.mean(f1s),\n",
        "    }\n",
        "\n",
        "    # Elegimos por el mejor F1 Score\n",
        "    if results[depth]['F1 Score'] > best_f1:\n",
        "        best_f1 = results[depth]['F1 Score']\n",
        "        best_depth = depth\n",
        "        best_model = model\n",
        "\n",
        "    # Graficamos la curva ROC\n",
        "    fpr_curve, tpr_curve, _ = roc_curve(all_true, all_probs)\n",
        "    plt.plot(fpr_curve, tpr_curve, label=f'Profundidad {depth} (AUC={results[depth][\"AUC\"]:.2f})')\n",
        "\n",
        "plt.plot([0, 1], [0, 1], 'k--')\n",
        "plt.xlabel(\"FPR\")\n",
        "plt.ylabel(\"TPR\")\n",
        "plt.title(\"Curvas ROC por profundidad\")\n",
        "plt.legend()\n",
        "plt.grid(True)\n",
        "plt.show()\n",
        "\n",
        "# Print Resultados arboles\n",
        "print(\"\\n Resultados:\")\n",
        "for depth, metrics in results.items():\n",
        "    print(f\"\\n Profundidad {depth}:\")\n",
        "    for m, v in metrics.items():\n",
        "        print(f\"  {m}: {v:.4f}\")\n",
        "\n",
        "print(f\"\\n El mejor árbol f1 score: {best_depth} (F1 Score = {best_f1:.4f})\")"
      ]
    },
    {
      "cell_type": "markdown",
      "id": "7b8654f0",
      "metadata": {},
      "source": [
        "### Gaussian NB"
      ]
    },
    {
      "cell_type": "markdown",
      "id": "085bbf1c",
      "metadata": {},
      "source": [
        "Entrenamos Gaussian NB con 2 configuraciones de hiper parámetros distintas:"
      ]
    },
    {
      "cell_type": "code",
      "execution_count": null,
      "id": "b2162f47",
      "metadata": {},
      "outputs": [],
      "source": [
        "models = {\n",
        "    'default': GaussianNB(),\n",
        "    'var_smoothing_1e-5': GaussianNB(var_smoothing=1e-5),\n",
        "#    'var_smoothing_1e-9': GaussianNB(var_smoothing=1e-9),\n",
        "}"
      ]
    },
    {
      "cell_type": "code",
      "execution_count": null,
      "id": "53e4e8bc",
      "metadata": {},
      "outputs": [
        {
          "data": {
            "image/png": "[encoded data removed]",
            "text/plain": [
              "<Figure size 640x480 with 1 Axes>"
            ]
          },
          "metadata": {},
          "output_type": "display_data"
        },
        {
          "name": "stdout",
          "output_type": "stream",
          "text": [
            "\n",
            " Resultados:\n",
            "\n",
            " Hiperparametros: default:\n",
            "  Accuracy: 0.9654\n",
            "  TPR: 0.9214\n",
            "  FPR: 0.0251\n",
            "  AUC: 0.9899\n",
            "  G-Mean: 0.9478\n",
            "  F1 Score: 0.9040\n",
            "\n",
            " Hiperparametros: var_smoothing_1e-5:\n",
            "  Accuracy: 0.9654\n",
            "  TPR: 0.9225\n",
            "  FPR: 0.0254\n",
            "  AUC: 0.9899\n",
            "  G-Mean: 0.9482\n",
            "  F1 Score: 0.9041\n",
            "\n",
            " Mejor sesgo inductivo según f1 score: var_smoothing_1e-5 (F1 Score = 0.9041)\n"
          ]
        }
      ],
      "source": [
        "cv = StratifiedKFold(n_splits=5, shuffle=True, random_state=42)\n",
        "\n",
        "results_gaussian_nb = {}\n",
        "best_f1 = -1\n",
        "best_hiperparam = None\n",
        "\n",
        "\n",
        "for key,model in models.items():\n",
        "    acc, tprs, fprs, aucs, gmeans, f1s = [], [], [], [], [], []\n",
        "    all_true, all_probs = [], []\n",
        "\n",
        "    for train_idx, val_idx in cv.split(X, y):\n",
        "        X_train, X_val = X[train_idx], X[val_idx]\n",
        "        y_train_cv, y_val = y[train_idx], y[val_idx]\n",
        "\n",
        "        model.fit(X_train, y_train_cv)\n",
        "        y_pred = model.predict(X_val)\n",
        "        y_proba = model.predict_proba(X_val)[:, 1]\n",
        "\n",
        "        # Confusion matrix para TPR y FPR\n",
        "        tn, fp, fn, tp = confusion_matrix(y_val, y_pred).ravel()\n",
        "        TPR = tp / (tp + fn) if (tp + fn) != 0 else 0\n",
        "        FPR = fp / (fp + tn) if (fp + tn) != 0 else 0\n",
        "\n",
        "        acc.append(accuracy_score(y_val, y_pred))\n",
        "        tprs.append(TPR)\n",
        "        fprs.append(FPR)\n",
        "        aucs.append(roc_auc_score(y_val, y_proba))\n",
        "        gmeans.append(geometric_mean_score(y_val, y_pred))\n",
        "        f1s.append(f1_score(y_val, y_pred))\n",
        "\n",
        "        all_true.extend(y_val)\n",
        "        all_probs.extend(y_proba)\n",
        "\n",
        "    # Guardamos los resultados en un diccionario\n",
        "    results_gaussian_nb[key] = {\n",
        "        'Accuracy' : np.mean(acc),\n",
        "        'TPR': np.mean(tprs),\n",
        "        'FPR': np.mean(fprs),\n",
        "        'AUC': np.mean(aucs),\n",
        "        'G-Mean': np.mean(gmeans),\n",
        "        'F1 Score' : np.mean(f1s),\n",
        "    }\n",
        "\n",
        "    # Usamos nuevamente el f1 score como metrica de seleccion\n",
        "    if results_gaussian_nb[key]['F1 Score'] > best_f1:\n",
        "        best_f1 = results_gaussian_nb[key]['F1 Score']\n",
        "        best_hiperparam = key\n",
        "        best_model = model\n",
        "\n",
        "    fpr_curve, tpr_curve, _ = roc_curve(all_true, all_probs)\n",
        "    plt.plot(fpr_curve, tpr_curve, label=f'Hiperparámetros: {key} (AUC={results_gaussian_nb[key][\"AUC\"]:.2f})')\n",
        "\n",
        "\n",
        "plt.plot([0, 1], [0, 1], 'k--')\n",
        "plt.xlabel(\"FPR\")\n",
        "plt.ylabel(\"TPR\")\n",
        "plt.title(\"Curvas ROC por profundidad\")\n",
        "plt.legend()\n",
        "plt.grid(True)\n",
        "plt.show()\n",
        "\n",
        "# Mostrar resultados\n",
        "print(\"\\n Resultados:\")\n",
        "for key, metrics in results_gaussian_nb.items():\n",
        "    print(f\"\\n Hiperparametros: {key}:\")\n",
        "    for m, v in metrics.items():\n",
        "        print(f\"  {m}: {v:.4f}\")\n",
        "\n",
        "print(f\"\\n Mejor sesgo inductivo según f1 score: {best_hiperparam} (F1 Score = {best_f1:.4f})\")"
      ]
    },
    {
      "cell_type": "markdown",
      "id": "35438d18",
      "metadata": {},
      "source": [
        "# Utilizamos GridSearchCV"
      ]
    },
    {
      "cell_type": "markdown",
      "id": "16380c98",
      "metadata": {},
      "source": [
        "Entrenamos:\n",
        "\n",
        "    - RandomForest: 4 configuraciones de hiperparámetros\n",
        "    - XGBoost: 8 configuraciones de hiperparámetros\n",
        "    - LogisticRegression: 6 configuraciones de hiperparámetros"
      ]
    },
    {
      "cell_type": "markdown",
      "id": "d4a6f231",
      "metadata": {},
      "source": [
        "GRID SEARCH"
      ]
    },
    {
      "cell_type": "code",
      "execution_count": null,
      "id": "5250246b",
      "metadata": {},
      "outputs": [],
      "source": [
        "# Lista de modelos y sus grids\n",
        "models_and_parameters = {\n",
        "    \"RandomForest\": {\n",
        "        \"model\": RandomForestClassifier(random_state=42),\n",
        "        \"params\": {\n",
        "            \"n_estimators\": [100, 200],\n",
        "            \"max_depth\": [5, 10],\n",
        "        },\n",
        "    },\n",
        "    \"XGBoost\": {\n",
        "        \"model\": xgb.XGBClassifier(eval_metric=\"logloss\", random_state=42),\n",
        "        \"params\": {\n",
        "            \"n_estimators\": [100, 200],\n",
        "            \"max_depth\": [3, 6],\n",
        "            \"learning_rate\": [0.1, 0.2],\n",
        "        },\n",
        "    },\n",
        "\n",
        "    \"LogisticRegression\": {\n",
        "        \"model\": LogisticRegression(solver=\"liblinear\", random_state=42),\n",
        "        \"params\": {\n",
        "            \"C\": [0.1, 1, 10],\n",
        "            \"penalty\": [\"l1\", \"l2\"],\n",
        "        },\n",
        "    },\n",
        "}"
      ]
    },
    {
      "cell_type": "code",
      "execution_count": null,
      "id": "66a8b678",
      "metadata": {},
      "outputs": [
        {
          "name": "stdout",
          "output_type": "stream",
          "text": [
            "RandomForest\n",
            "Fitting 3 folds for each of 4 candidates, totalling 12 fits\n",
            "XGBoost\n",
            "Fitting 3 folds for each of 8 candidates, totalling 24 fits\n",
            "LogisticRegression\n",
            "Fitting 3 folds for each of 6 candidates, totalling 18 fits\n",
            "\n",
            " Mejor modelo global de GridSearch: LogisticRegression\n",
            "F1 score (CV): 0.9924\n",
            "Mejores hiperparámetros:\n",
            "  C: 0.1\n",
            "  penalty: l1\n"
          ]
        }
      ],
      "source": [
        "results = []\n",
        "mejor_modelo = None\n",
        "mejor_score = -1\n",
        "mejor_nombre = \"\"\n",
        "mejor_params = None\n",
        "\n",
        "for model_name, mp in models_and_parameters.items():\n",
        "    print(f\"{model_name}\")\n",
        "\n",
        "\n",
        "    grid = GridSearchCV(\n",
        "        estimator=mp[\"model\"],\n",
        "        param_grid=mp[\"params\"],\n",
        "        scoring=\"f1\",\n",
        "        cv=3,\n",
        "        n_jobs=-1,\n",
        "        verbose=2,\n",
        "    )\n",
        "\n",
        "    grid.fit(X_pca_train, y_train)\n",
        "    y_pred = cross_val_predict(grid.best_estimator_, X_pca_train, y_train, cv=3, method=\"predict\")\n",
        "    y_proba = cross_val_predict(grid.best_estimator_, X_pca_train, y_train, cv=3, method=\"predict_proba\")[:, 1]\n",
        "\n",
        "\n",
        "\n",
        "    # Matriz de confusión\n",
        "    tn, fp, fn, tp = confusion_matrix(y_train, y_pred).ravel()\n",
        "    tpr = tp / (tp + fn) if (tp + fn) > 0 else 0.0\n",
        "    fpr = fp / (fp + tn) if (fp + tn) > 0 else 0.0\n",
        "    gmean = np.sqrt(tpr * (tn / (fp + tn))) if (fp + tn) > 0 else 0.0\n",
        "    auc = roc_auc_score(y_train, y_proba)\n",
        "\n",
        "    acc = accuracy_score(y_train, y_pred)\n",
        "    f1 = f1_score(y_train, y_pred)\n",
        "\n",
        "\n",
        "    # Guardar resultados del modelo actual\n",
        "    results.append({\n",
        "        \"model\": model_name,\n",
        "        \"best_params\": grid.best_params_,\n",
        "        \"best_score_f1_cv\": grid.best_score_,\n",
        "        \"accuracy\": acc,\n",
        "        \"tpr\": tpr,\n",
        "        \"fpr\": fpr,\n",
        "        \"auc\": auc,\n",
        "        \"gmean\": gmean,\n",
        "        \"modelo_entrenado\": grid.best_estimator_,\n",
        "    })\n",
        "\n",
        "    # Evaluar si es el mejor modelo global utilizando el F1 score\n",
        "    if grid.best_score_ > mejor_score:\n",
        "        mejor_score = grid.best_score_\n",
        "        mejor_modelo = grid.best_estimator_\n",
        "        mejor_nombre = model_name\n",
        "        mejor_params = grid.best_params_\n",
        "\n",
        "\n",
        "# ✅ Imprimir el resumen final\n",
        "print(f\"\\n Mejor modelo global de GridSearch: {mejor_nombre}\")\n",
        "print(f\"F1 score (CV): {mejor_score:.4f}\")\n",
        "print(\"Mejores hiperparámetros:\")\n",
        "for k, v in mejor_params.items():\n",
        "    print(f\"  {k}: {v}\")"
      ]
    },
    {
      "cell_type": "markdown",
      "id": "3e45a80a",
      "metadata": {},
      "source": [
        "Guardamos las métricas y el mejor modelo para cada uno de los algoritmos probados en el dataframe df_results"
      ]
    },
    {
      "cell_type": "code",
      "execution_count": null,
      "id": "4f9ca54d",
      "metadata": {},
      "outputs": [
        {
          "ename": "NameError",
          "evalue": "name 'df_results' is not defined",
          "output_type": "error",
          "traceback": [
            "\u001b[1;31m---------------------------------------------------------------------------\u001b[0m",
            "\u001b[1;31mNameError\u001b[0m                                 Traceback (most recent call last)",
            "Cell \u001b[1;32mIn[23], line 1\u001b[0m\n\u001b[1;32m----> 1\u001b[0m df_results\n",
            "\u001b[1;31mNameError\u001b[0m: name 'df_results' is not defined"
          ]
        }
      ],
      "source": [
        "df_results"
      ]
    },
    {
      "cell_type": "markdown",
      "id": "d6bb1a3f",
      "metadata": {},
      "source": [
        "Utilizamos la funcion definida en la notebook \"guardar_pipeline\" para guardar los modelos de XGBoost y LogisticRegression"
      ]
    },
    {
      "cell_type": "code",
      "execution_count": null,
      "id": "c8a23776",
      "metadata": {},
      "outputs": [
        {
          "name": "stdout",
          "output_type": "stream",
          "text": [
            "Pipeline guardado como 'pipeline_XGB_20250701.pkl'\n"
          ]
        }
      ],
      "source": [
        "guardar_pipeline(scaler, pca_final, df_results.modelo_entrenado[1], 'pipeline_XGB_20250701')"
      ]
    },
    {
      "cell_type": "code",
      "execution_count": null,
      "id": "720324eb",
      "metadata": {},
      "outputs": [
        {
          "name": "stdout",
          "output_type": "stream",
          "text": [
            "Pipeline guardado como 'pipeline_LReg_20250701.pkl'\n"
          ]
        }
      ],
      "source": [
        "guardar_pipeline(scaler, pca_final, df_results.modelo_entrenado[2], 'pipeline_LReg_20250701')"
      ]
    },
    {
      "cell_type": "markdown",
      "id": "66f0c3ff",
      "metadata": {},
      "source": [
        "# Probamos con Redes Neuronales utilizando PyTorch"
      ]
    },
    {
      "cell_type": "code",
      "execution_count": null,
      "id": "24614aa3",
      "metadata": {},
      "outputs": [],
      "source": [
        "# Convertimos los datos a tensores de PyTorch\n",
        "X_train_tensor = torch.tensor(X_pca_train, dtype=torch.float32)\n",
        "y_train_tensor = torch.tensor(y_train, dtype=torch.long)  # para clasificación\n",
        "X_test_tensor = torch.tensor(X_pca_val, dtype=torch.float32)\n",
        "y_test_tensor = torch.tensor(y_val, dtype=torch.long)"
      ]
    },
    {
      "cell_type": "code",
      "execution_count": null,
      "id": "68d8d8a0",
      "metadata": {},
      "outputs": [],
      "source": [
        "train_dataset = TensorDataset(X_train_tensor, y_train_tensor)\n",
        "test_dataset = TensorDataset(X_test_tensor, y_test_tensor)"
      ]
    },
    {
      "cell_type": "code",
      "execution_count": null,
      "id": "684e8385",
      "metadata": {},
      "outputs": [],
      "source": [
        "train_loader = DataLoader(train_dataset, batch_size=64, shuffle=True)\n",
        "test_loader = DataLoader(test_dataset, batch_size=64)"
      ]
    },
    {
      "cell_type": "code",
      "execution_count": null,
      "id": "6566f643",
      "metadata": {},
      "outputs": [],
      "source": [
        "modelo_rn_1 = FaceClassifierNN(447,256,1)\n",
        "criterion = nn.BCEWithLogitsLoss()\n",
        "optimizer = optim.Adam(modelo_rn_1.parameters(), lr=0.001)"
      ]
    },
    {
      "cell_type": "code",
      "execution_count": null,
      "id": "d76daea7",
      "metadata": {},
      "outputs": [
        {
          "name": "stdout",
          "output_type": "stream",
          "text": [
            "Epoch 1/20 - Loss: 31.7525\n",
            "Epoch 2/20 - Loss: 4.1783\n",
            "Epoch 3/20 - Loss: 2.2704\n",
            "Epoch 4/20 - Loss: 2.0803\n",
            "Epoch 5/20 - Loss: 1.0262\n",
            "Epoch 6/20 - Loss: 1.3154\n",
            "Epoch 7/20 - Loss: 1.2180\n",
            "Epoch 8/20 - Loss: 0.7599\n",
            "Epoch 9/20 - Loss: 0.4097\n",
            "Epoch 10/20 - Loss: 1.0053\n",
            "Epoch 11/20 - Loss: 0.7753\n",
            "Epoch 12/20 - Loss: 0.5498\n",
            "Epoch 13/20 - Loss: 0.5646\n",
            "Epoch 14/20 - Loss: 0.4747\n",
            "Epoch 15/20 - Loss: 0.4255\n",
            "Epoch 16/20 - Loss: 0.7137\n",
            "Epoch 17/20 - Loss: 0.3745\n",
            "Epoch 18/20 - Loss: 0.2299\n",
            "Epoch 19/20 - Loss: 0.3676\n",
            "Epoch 20/20 - Loss: 0.3357\n"
          ]
        }
      ],
      "source": [
        "# Entrenamiento\n",
        "epochs = 20\n",
        "for epoch in range(epochs):\n",
        "    modelo_rn_1.train()\n",
        "    running_loss = 0.0\n",
        "    for X_batch, y_batch in train_loader:\n",
        "        optimizer.zero_grad()\n",
        "        y_batch = y_batch.float() \n",
        "        outputs = modelo_rn_1(X_batch).squeeze()\n",
        "        loss = criterion(outputs, y_batch)\n",
        "        loss.backward()\n",
        "        optimizer.step()\n",
        "        running_loss += loss.item()\n",
        "    print(f\"Epoch {epoch+1}/{epochs} - Loss: {running_loss:.4f}\")"
      ]
    },
    {
      "cell_type": "code",
      "execution_count": null,
      "id": "eb45a3b0",
      "metadata": {},
      "outputs": [
        {
          "name": "stdout",
          "output_type": "stream",
          "text": [
            "\n",
            "Accuracy: 0.9990\n",
            "F1 Score: 0.9969\n",
            "AUC: 0.9997\n",
            "TPR (Recall): 0.9969\n",
            "FPR: 0.0006\n",
            "G-Mean: 0.9982\n"
          ]
        }
      ],
      "source": [
        "# Evaluación\n",
        "modelo_rn_1.eval()\n",
        "all_preds = []\n",
        "all_labels = []\n",
        "all_probs = []\n",
        "\n",
        "with torch.no_grad():\n",
        "    for X_batch, y_batch in test_loader:\n",
        "        outputs = modelo_rn_1(X_batch).squeeze()\n",
        "        probs = torch.sigmoid(outputs)\n",
        "        preds = (probs > 0.5).int()\n",
        "        all_probs.extend(probs.cpu().numpy())\n",
        "        all_preds.extend(preds.cpu().numpy())\n",
        "        all_labels.extend(y_batch.int().cpu().numpy())\n",
        "\n",
        "# Calculamos las mismas metricas que antes\n",
        "acc = accuracy_score(all_labels, all_preds)\n",
        "f1 = f1_score(all_labels, all_preds)\n",
        "auc = roc_auc_score(all_labels, all_probs)\n",
        "\n",
        "tn, fp, fn, tp = confusion_matrix(all_labels, all_preds).ravel()\n",
        "\n",
        "tpr = tp / (tp + fn) if (tp + fn) > 0 else 0.0 \n",
        "fpr = fp / (fp + tn) if (fp + tn) > 0 else 0.0\n",
        "gmean = np.sqrt(tpr * (tn / (fp + tn))) if (fp + tn) > 0 else 0.0\n",
        "\n",
        "# Imprimimos los resultados\n",
        "print(f\"\\n Accuracy: {acc:.4f}\")\n",
        "print(f\"F1 Score: {f1:.4f}\")\n",
        "print(f\"AUC: {auc:.4f}\")\n",
        "print(f\"TPR (Recall): {tpr:.4f}\")\n",
        "print(f\"FPR: {fpr:.4f}\")\n",
        "print(f\"G-Mean: {gmean:.4f}\")"
      ]
    },
    {
      "cell_type": "markdown",
      "id": "744999a2",
      "metadata": {},
      "source": [
        "Guardamos los pesos de la red"
      ]
    },
    {
      "cell_type": "code",
      "execution_count": null,
      "id": "0c3f3a60",
      "metadata": {},
      "outputs": [],
      "source": [
        "# Guardar solo los pesos del modelo\n",
        "torch.save(modelo_rn_1.state_dict(), \"modelos/nn_20250628.pth\")"
      ]
    },
    {
      "cell_type": "markdown",
      "id": "902cc3d6",
      "metadata": {},
      "source": [
        "## Segunda Red"
      ]
    },
    {
      "cell_type": "code",
      "execution_count": null,
      "id": "6b65910c",
      "metadata": {},
      "outputs": [],
      "source": [
        "\n",
        "modelo_rn_2 = FaceClassifier2NN()\n",
        "criterion = nn.BCEWithLogitsLoss()\n",
        "optimizer = optim.Adam(modelo_rn_2.parameters(), lr=1e-3)"
      ]
    },
    {
      "cell_type": "code",
      "execution_count": null,
      "id": "f6290700",
      "metadata": {},
      "outputs": [
        {
          "name": "stdout",
          "output_type": "stream",
          "text": [
            "Epoch 1/20 - Loss: 41.9076\n",
            "Epoch 2/20 - Loss: 10.5248\n",
            "Epoch 3/20 - Loss: 6.2998\n",
            "Epoch 4/20 - Loss: 5.0349\n",
            "Epoch 5/20 - Loss: 4.1332\n",
            "Epoch 6/20 - Loss: 2.7515\n",
            "Epoch 7/20 - Loss: 2.9978\n",
            "Epoch 8/20 - Loss: 1.8892\n",
            "Epoch 9/20 - Loss: 2.3346\n",
            "Epoch 10/20 - Loss: 1.9930\n",
            "Epoch 11/20 - Loss: 1.7024\n",
            "Epoch 12/20 - Loss: 1.3877\n",
            "Epoch 13/20 - Loss: 1.1160\n",
            "Epoch 14/20 - Loss: 1.5500\n",
            "Epoch 15/20 - Loss: 1.1509\n",
            "Epoch 16/20 - Loss: 1.2125\n",
            "Epoch 17/20 - Loss: 1.1556\n",
            "Epoch 18/20 - Loss: 0.8930\n",
            "Epoch 19/20 - Loss: 0.9667\n",
            "Epoch 20/20 - Loss: 0.5674\n"
          ]
        }
      ],
      "source": [
        "# Entrenamiento\n",
        "epochs = 20\n",
        "for epoch in range(epochs):\n",
        "    modelo_rn_2.train()\n",
        "    running_loss = 0.0\n",
        "    for X_batch, y_batch in train_loader:\n",
        "        optimizer.zero_grad()\n",
        "        y_batch = y_batch.float() \n",
        "        outputs = modelo_rn_2(X_batch).squeeze()\n",
        "        loss = criterion(outputs, y_batch)\n",
        "        loss.backward()\n",
        "        optimizer.step()\n",
        "        running_loss += loss.item()\n",
        "    print(f\"Epoch {epoch+1}/{epochs} - Loss: {running_loss:.4f}\")"
      ]
    },
    {
      "cell_type": "code",
      "execution_count": null,
      "id": "f0d687ba",
      "metadata": {},
      "outputs": [
        {
          "name": "stdout",
          "output_type": "stream",
          "text": [
            "\n",
            "Accuracy: 0.9993\n",
            "F1 Score: 0.9977\n",
            "AUC: 0.9998\n",
            "TPR (Recall): 0.9969\n",
            "FPR: 0.0003\n",
            "G-Mean: 0.9983\n"
          ]
        }
      ],
      "source": [
        "# Evaluación\n",
        "modelo_rn_2.eval()\n",
        "all_preds = []\n",
        "all_labels = []\n",
        "all_probs = []\n",
        "\n",
        "with torch.no_grad():\n",
        "    for X_batch, y_batch in test_loader:\n",
        "        outputs = modelo_rn_2(X_batch).squeeze()\n",
        "        probs = torch.sigmoid(outputs)\n",
        "        preds = (probs > 0.5).int()\n",
        "        all_probs.extend(probs.cpu().numpy())\n",
        "        all_preds.extend(preds.cpu().numpy())\n",
        "        all_labels.extend(y_batch.int().cpu().numpy())\n",
        "\n",
        "# Calculamos las mismas metricas que antes\n",
        "acc = accuracy_score(all_labels, all_preds)\n",
        "f1 = f1_score(all_labels, all_preds)\n",
        "auc = roc_auc_score(all_labels, all_probs)\n",
        "\n",
        "tn, fp, fn, tp = confusion_matrix(all_labels, all_preds).ravel()\n",
        "\n",
        "tpr = tp / (tp + fn) if (tp + fn) > 0 else 0.0 \n",
        "fpr = fp / (fp + tn) if (fp + tn) > 0 else 0.0\n",
        "gmean = np.sqrt(tpr * (tn / (fp + tn))) if (fp + tn) > 0 else 0.0\n",
        "\n",
        "# Imprimimos los resultados\n",
        "print(f\"\\n Accuracy: {acc:.4f}\")\n",
        "print(f\"F1 Score: {f1:.4f}\")\n",
        "print(f\"AUC: {auc:.4f}\")\n",
        "print(f\"TPR (Recall): {tpr:.4f}\")\n",
        "print(f\"FPR: {fpr:.4f}\")\n",
        "print(f\"G-Mean: {gmean:.4f}\")"
      ]
    },
    {
      "cell_type": "code",
      "execution_count": null,
      "id": "47fef9b2",
      "metadata": {},
      "outputs": [],
      "source": [
        "# Guardar solo los pesos del modelo\n",
        "torch.save(modelo_rn_2.state_dict(), \"modelos/nn_20250701_v2.pth\")"
      ]
    }
  ],
  "metadata": {
    "colab": {
      "provenance": []
    },
    "kernelspec": {
      "display_name": "ml-para-ia",
      "language": "python",
      "name": "python3"
    },
    "language_info": {
      "codemirror_mode": {
        "name": "ipython",
        "version": 3
      },
      "file_extension": ".py",
      "mimetype": "text/x-python",
      "name": "python",
      "nbconvert_exporter": "python",
      "pygments_lexer": "ipython3",
      "version": "3.13.2"
    }
  },
  "nbformat": 4,
  "nbformat_minor": 5
}
